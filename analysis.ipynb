{
 "cells": [
  {
   "cell_type": "code",
   "execution_count": 1,
   "id": "d45b4ad5-cb6b-494f-b229-05636fd21039",
   "metadata": {},
   "outputs": [],
   "source": [
    "import awkward as ak\n",
    "import h5py\n",
    "import matplotlib.pyplot as plt\n",
    "import mplhep\n",
    "import numpy as np\n",
    "import os\n",
    "import yaml\n",
    "from helpers import load_dataset, stack, get_Z_candidates\n",
    "\n",
    "mplhep.style.use(\"CMS\")"
   ]
  },
  {
   "cell_type": "code",
   "execution_count": 2,
   "id": "c2dc1d4a-139e-4c80-8c20-dc990bd22b29",
   "metadata": {},
   "outputs": [
    {
     "name": "stdout",
     "output_type": "stream",
     "text": [
      "Working on ZZTo4e.h5 (1/8)\n",
      "Working on ZZTo4mu.h5 (2/8)\n",
      "Working on Run2012B_DoubleMuParked.h5 (3/8)\n",
      "Working on SMHiggsToZZTo4L.h5 (4/8)\n",
      "Working on Run2012C_DoubleMuParked.h5 (5/8)\n",
      "Working on Run2012B_DoubleElectron.h5 (6/8)\n",
      "Working on Run2012C_DoubleElectron.h5 (7/8)\n",
      "Working on ZZTo2e2mu.h5 (8/8)\n",
      "Finished!\n"
     ]
    }
   ],
   "source": [
    "datasets = {}\n",
    "for n, file in enumerate(os.listdir(\"skimmed_datasets_v2\")):\n",
    "    print(f\"Working on {file} ({n + 1}/8)\")\n",
    "    h5file = h5py.File(os.path.join(\"skimmed_datasets_v2\", file), \"r\")\n",
    "    datasets.update({file[:-3]: load_dataset(h5file)})\n",
    "print(\"Finished!\")"
   ]
  },
  {
   "cell_type": "code",
   "execution_count": 13,
   "id": "a4c1ec4e-e429-4587-8892-a64ff4839484",
   "metadata": {},
   "outputs": [],
   "source": [
    "def process_dataset(dataset: dict):\n",
    "    muons = dataset[\"muons\"]\n",
    "    electrons = dataset[\"electrons\"]\n",
    "    \n",
    "    ### Myonen\n",
    "    passes_pt = muons[\"pt\"] > 5\n",
    "    passes_eta = abs(muons[\"eta\"]) < 2.4\n",
    "    muons = muons[passes_pt & passes_eta]\n",
    "\n",
    "    ### Elektronen\n",
    "    passes_pt = electrons[\"pt\"] > 7\n",
    "    passes_eta = abs(electrons[\"eta\"]) < 2.5\n",
    "    electrons = electrons[passes_pt & passes_eta]\n",
    "\n",
    "    ### Nur gerade Anzahl an Elektronen und Myonen\n",
    "    has_4mu = (ak.num(muons) == 4) & (ak.num(electrons) == 0)\n",
    "    has_4e = (ak.num(muons) == 0) & (ak.num(electrons) == 4)\n",
    "    has_2e2mu = (ak.num(muons) == 2) & (ak.num(electrons) == 2)\n",
    "    \n",
    "    passes_flav = has_4mu | has_4e | has_2e2mu\n",
    "    electrons = electrons[passes_flav]\n",
    "    muons = muons[passes_flav]\n",
    "\n",
    "    ### Gesamtladung Null\n",
    "    has_0Q_mu = ak.sum(muons[\"charge\"], axis = 1) == 0\n",
    "    has_0Q_e = ak.sum(electrons[\"charge\"], axis = 1) == 0\n",
    "    passes_Q = has_0Q_mu & has_0Q_e\n",
    "    electrons = electrons[passes_Q]\n",
    "    muons = muons[passes_Q]\n",
    "    \n",
    "\n",
    "    ### Falls 2e2m:, pt1 (2) > 20 (10) GeV\n",
    "    muon_pt_sorted = ak.sort(muons[\"pt\"], ascending = False)\n",
    "    muon_pt_sorted = ak.fill_none(ak.pad_none(muon_pt_sorted, 2), -1)\n",
    "    muon_mask = (muon_pt_sorted[:, 0] > 20) & (muon_pt_sorted[:, 1] > 10)\n",
    "    electron_pt_sorted = ak.sort(electrons[\"pt\"], ascending = False)\n",
    "    electron_pt_sorted = ak.fill_none(ak.pad_none(electron_pt_sorted, 2), -1)\n",
    "    electron_mask = (electron_pt_sorted[:, 0] > 20) & (electron_pt_sorted[:, 1] > 10)\n",
    "    passes_pt_2e2mu = ak.where(ak.num(muons) == 2, muon_mask & electron_mask, ak.num(muons) != 2)\n",
    "\n",
    "    electrons = electrons[passes_pt_2e2mu]\n",
    "    muons = muons[passes_pt_2e2mu]\n",
    "\n",
    "\n",
    "    ### Z Fenster\n",
    "    mZ_1, mZ_2, dR1, dR2 = get_Z_candidates(muons, electrons)\n",
    "    passes_Z1 = (mZ_1 > 40) & (mZ_1 < 120)\n",
    "    passes_Z2 = (mZ_2 > 12) & (mZ_2 < 120)\n",
    "\n",
    "    ### dR cut\n",
    "    passes_dRcut = (dR1 > 0.02) & (dR2 > 0.02)\n",
    "    \n",
    "    passes_Zcuts = passes_Z1 & passes_Z2 & passes_dRcut\n",
    "    electrons = electrons[passes_Zcuts]\n",
    "    muons = muons[passes_Zcuts]\n",
    "    \n",
    "    leptons = ak.concatenate((muons, electrons), axis = 1)\n",
    "    mass = ak.sum(leptons.to_xyzt(), axis = 1).mass\n",
    "    \n",
    "    return mass"
   ]
  },
  {
   "cell_type": "code",
   "execution_count": 9,
   "id": "777873d6-a48e-44c3-aefa-8620ef09e036",
   "metadata": {},
   "outputs": [],
   "source": [
    "def process_dataset(dataset: dict):\n",
    "    muons = dataset[\"muons\"]\n",
    "    electrons = dataset[\"electrons\"]\n",
    "\n",
    "    leptons = ak.concatenate((muons, electrons), axis = 1)\n",
    "    mass = ak.sum(leptons.to_xyzt(), axis = 1).mass\n",
    "\n",
    "    return mass"
   ]
  },
  {
   "cell_type": "code",
   "execution_count": 14,
   "id": "fbb9f236-341f-473a-a13b-fb6a98b9434d",
   "metadata": {},
   "outputs": [
    {
     "name": "stdout",
     "output_type": "stream",
     "text": [
      "Processing dataset ZZTo4e\n",
      "   Events before processing: 96104\n",
      "   Events after processing: 62138\n",
      "Processing dataset ZZTo4mu\n",
      "   Events before processing: 178229\n",
      "   Events after processing: 101660\n",
      "Processing dataset Run2012B_DoubleMuParked\n",
      "   Events before processing: 405\n",
      "   Events after processing: 69\n",
      "Processing dataset SMHiggsToZZTo4L\n",
      "   Events before processing: 39805\n",
      "   Events after processing: 23185\n",
      "Processing dataset Run2012C_DoubleMuParked\n",
      "   Events before processing: 662\n",
      "   Events after processing: 122\n",
      "Processing dataset Run2012B_DoubleElectron\n",
      "   Events before processing: 162\n",
      "   Events after processing: 43\n",
      "Processing dataset Run2012C_DoubleElectron\n",
      "   Events before processing: 279\n",
      "   Events after processing: 69\n",
      "Processing dataset ZZTo2e2mu\n",
      "   Events before processing: 116010\n",
      "   Events after processing: 51249\n"
     ]
    }
   ],
   "source": [
    "masses = {}\n",
    "\n",
    "for name, dataset in datasets.items():\n",
    "    print(f\"Processing dataset {name}\")\n",
    "    n_pre = len(dataset[\"muons\"])\n",
    "    m = process_dataset(dataset)\n",
    "    n_post = len(m)\n",
    "    print(f\"   Events before processing: {n_pre}\")\n",
    "    print(f\"   Events after processing: {n_post}\")\n",
    "    \n",
    "    masses.update({name: process_dataset(dataset)})"
   ]
  },
  {
   "cell_type": "code",
   "execution_count": 15,
   "id": "12087c1e-dd65-40ea-a423-e0a253637bef",
   "metadata": {},
   "outputs": [],
   "source": [
    "def plot_m4l(\n",
    "    m4l: dict, blinded =  True, syst = True\n",
    "):\n",
    "\n",
    "    ### Lade Skalierungsfaktoren\n",
    "    with open(\"weights.yaml\", \"r\") as wfile: weights = yaml.safe_load(wfile)\n",
    "\n",
    "    ### Erstelle Histogramme (Start und Stop der Bins sind hier willkürlich)\n",
    "    bins = np.linspace(70, 180, 36)\n",
    "    bin_width = bins[1] - bins[0]\n",
    "    hists = {\n",
    "        name: np.histogram(m4l[name], bins)[0] * weights[name] for name in m4l.keys()\n",
    "    }\n",
    "    \n",
    "\n",
    "    DY = hists[\"ZZTo4mu\"] + hists[\"ZZTo4e\"] + hists[\"ZZTo2e2mu\"]\n",
    "    S = hists[\"SMHiggsToZZTo4L\"]\n",
    "    stat_mc = np.sqrt(DY + S)\n",
    "    stat_mc_down = DY + S - stat_mc\n",
    "    stat_mc_up = DY + S + stat_mc\n",
    "\n",
    "    data = (\n",
    "        hists[\"Run2012B_DoubleMuParked\"] + hists[\"Run2012C_DoubleMuParked\"]\n",
    "        + hists[\"Run2012B_DoubleElectron\"] + hists[\"Run2012C_DoubleElectron\"]\n",
    "    )\n",
    "    stat_data = np.sqrt(data)\n",
    "\n",
    "    plt.figure(dpi = 60)\n",
    "    mplhep.cms.text(\"Open Data\")\n",
    "    mplhep.cms.lumitext(\"$11.6$ $\\\\text{fb}^{-1}$\")\n",
    "    plt.stackplot(\n",
    "        bins[:-1],\n",
    "        list(hists[\"ZZTo4mu\"] + hists[\"ZZTo4e\"] + hists[\"ZZTo2e2mu\"]),\n",
    "        list(hists[\"SMHiggsToZZTo4L\"]),\n",
    "        labels = [\"Drell-Yan\", \"$H \\\\rightarrow ZZ \\\\rightarrow 4\\\\ell$\"],\n",
    "        step = \"post\"\n",
    "    )\n",
    "    if blinded:\n",
    "        plt.fill_between(\n",
    "            bins[:-1], stat_mc_down, stat_mc_up, \n",
    "            step = \"post\", hatch = \"///\", alpha = 0.5, facecolor = \"none\", edgecolor = \"black\", linewidth = 0\n",
    "        )\n",
    "    else:\n",
    "        plt.errorbar(\n",
    "            bins[:-1] + bin_width / 2, data, yerr = stat_data, fmt = \"o\", color = \"black\"\n",
    "        )\n",
    "    plt.xlabel(\"$m_{4\\\\ell}$ [GeV]\")\n",
    "    plt.ylabel(\"Counts/bin\")\n",
    "    plt.xlim(70, 180)\n",
    "    plt.ylim(bottom = 0)\n",
    "    plt.legend()\n",
    "    plt.show()"
   ]
  },
  {
   "cell_type": "code",
   "execution_count": 16,
   "id": "5a1727a2-4c50-4b3f-a6b6-5b4ebfda8874",
   "metadata": {},
   "outputs": [
    {
     "data": {
      "image/png": "[encoded data removed]",
      "text/plain": [
       "<Figure size 600x600 with 1 Axes>"
      ]
     },
     "metadata": {},
     "output_type": "display_data"
    }
   ],
   "source": [
    "plot_m4l(masses, blinded = False)"
   ]
  },
  {
   "cell_type": "code",
   "execution_count": null,
   "id": "0aa8427b-d3db-45e5-98a9-6ce8651a5dd3",
   "metadata": {},
   "outputs": [],
   "source": []
  }
 ],
 "metadata": {
  "kernelspec": {
   "display_name": "Python 3 (ipykernel)",
   "language": "python",
   "name": "python3"
  },
  "language_info": {
   "codemirror_mode": {
    "name": "ipython",
    "version": 3
   },
   "file_extension": ".py",
   "mimetype": "text/x-python",
   "name": "python",
   "nbconvert_exporter": "python",
   "pygments_lexer": "ipython3",
   "version": "3.12.3"
  }
 },
 "nbformat": 4,
 "nbformat_minor": 5
}
