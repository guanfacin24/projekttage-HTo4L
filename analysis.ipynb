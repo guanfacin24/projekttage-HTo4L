{
 "cells": [
  {
   "cell_type": "markdown",
   "id": "4d451d1b",
   "metadata": {},
   "source": [
    "<h1 style=\"text-align: center; font-weight:bold;\"> Higgs-Suche mit Python </h1>\n",
    "\n",
    "> von Kai Adamowicz und Philipp Nattland, basierend auf der CMS Open Data Analyse *\"Analysis of Higgs boson decays to four leptons using data and simulation of events at the CMS detector from 2012 using ROOT's RDataFrame\"* von Stefan Wunsch auf [https://opendata.cern.ch/record/12360](https://opendata.cern.ch/record/12360)\n",
    "\n",
    "Das Standardmodel der Teilchenphysik ist ein wohlerprobtes Model um die Interaktionen von Teilchen vorrauszusagen. Es wurde jedoch nicht an einem Tag erschaffen sondern über viele Jahzehnte durch unzählige Experimente sorgfältig Stein um Stein aufgebaut. Viele Fragen und Rätsel um das Standardmodel blieben jedoch eine lange Zeit unbeantwortet. So zum Beispiel die Frage warum das Photon - das Austauschteilchen der elektromagnetischen Wechselwirkung - masselos ist, während das W- und Z-Boson - die Austauschteilchen der schwachen Wechselwirkung - massiv sind. 1964 stellte Peter Higgs (sowie mehrere weitere Wissenschaftler) eine Theorie vor, welche diese Inkonsistenz erklären kann ohne dem Rest des Standardmodels zu widersprechen. Diese Theorie implizierte jedoch die Existenz eines neuen, bisher unbekannten Teilchens - das **Higgs** Boson. Eine lange Zeit blieb es unentdeckt, das LEP Experiment (Vorgänger des LHC Experiments) endete mit dem Ergebnis, dass das Higgs Boson eine Masse von über 114 GeV haben muss - denn schwerere Teilchen konnte das LEP aus technischen Gründen nicht erzeugen. Das nachfolgende LHC Experiment ist in der Lage Teilchen mit deutlich höheren Massen zu erzeugen und sollte das Mysterium um das Higgs Boson endlich lösen.\n",
    "\n",
    "Im Sommer 2012 verkündeten die **CMS** und **ATLAS** Kollaborationen die Entdeckung eines neuen Teilchens am CERN LHC. Die Eigenschaften des Teilchens stimmten mit der Theorie von Peter Higgs und seinen Kollegen überein. Das Higgs Boson wurde gefunden - bei einer Masse von ca. 125 GeV - nur knapp ausserhalb der maximalen Reichweite des LEP Experiments. Im folgenden Jupyter Notebook werden wir die Schritte der CMS Wissenschaftler nachvollziehen und das Higgs Boson im $\\text{H}\\to\\text{ZZ}\\to4\\ell$ Kanal erneut \"entdecken\". Dafür verwenden wir die gleichen Daten, die 2012 zur Entdeckung geführt haben.\n",
    "> **Good to know:** Zur Entdeckung des Higgs Bosons trugen auch andere Zerfallskanäle, wie z.B. $\\text{H}\\to\\gamma\\gamma$ bei (Das $\\gamma$ bezeichnet hier das Photon)."
   ]
  },
  {
   "cell_type": "markdown",
   "id": "9b8e984d-7a1c-4f5d-b4ad-7ffbc11c07b5",
   "metadata": {},
   "source": [
    "## Der Datensatz\n",
    "<hr>"
   ]
  },
  {
   "cell_type": "markdown",
   "id": "fad91d18-1f6d-4468-a57a-0d669ef319db",
   "metadata": {},
   "source": [
    "Wie bereits erwähnt werden wir die originalen Datensätze verwenden, die 2012 zur Entdeckung des Higgs Bosons beigetragen haben. Diese wurden von der CMS Kollaboration öffentlich gemacht und können auf der CERN Open Data Plattform gefunden werden. Wie ihr in der Einführung gelernt habt, nimmt das CMS Experiment unvorstellbar große Datenmengen auf, daher ist es unpraktisch **alle** aufgenommen Daten hier zu analysieren. Stattdessen wurde eine Vorauswahl an Daten getätigt, um die Dateigröße zu reduzieren. Da wir an dem $\\text{H}\\to\\text{ZZ}\\to4\\ell$ Prozess interessiert sind, ist das Hauptkriterium, auf Basis dessen wir diese Vorauswahl getätigt haben, dass in jedem Event mindestens 4 Leptonen (also Elektronen oder Myonen) enthalten sein müssen. Auf diese Weise konnten wir die Datenmenge um ein Vielfaches reduzieren und gleichzeitig einen großen Teil der $\\text{H}\\to\\text{ZZ}\\to4\\ell$ Events beibehalten.\n",
    "\n",
    "Zunächst importieren wir verschiedene Module, welche wir für die Analyse benötigen. Diese enthalten nützliche *Funktionen* (siehe Python-Übung), welchen wir lediglich ein paar Parameter übergeben müssen, um eine bestimmte Aufgabe zu lösen. Um die Funktionen aus den Bibliotheken zu laden, führe einfach den unteren Codeblock aus."
   ]
  },
  {
   "cell_type": "code",
   "execution_count": null,
   "id": "6c86460c-e6f2-478b-8dc5-93761e156987",
   "metadata": {},
   "outputs": [],
   "source": [
    "import awkward as ak   # Wichtiges Modul um große Arrays zu bearbeiten\n",
    "from helpers import *  # Alle Funktionen aus unserem selbtgeschriebenen \"helpers\" Modul"
   ]
  },
  {
   "cell_type": "markdown",
   "id": "3751eaf4",
   "metadata": {},
   "source": [
    "Mit den geladenen Funktionen können wir nun die Daten einlesen. Die entsprechenden Dateien sind im Ordner `data_files` gespeichert. Mit dem Folgenden Befehl werden alle Dateien eingelesen und dem *dict* `data` hinzugefügt.  "
   ]
  },
  {
   "cell_type": "code",
   "execution_count": null,
   "id": "a6dedbc1-467b-4f69-90a1-fb9f61f545ed",
   "metadata": {},
   "outputs": [],
   "source": [
    "data = load_data(\"data_files\")"
   ]
  },
  {
   "cell_type": "markdown",
   "id": "835c6dbd",
   "metadata": {},
   "source": [
    "Wenn wir uns dieses *dict* jetzt genauer anschauen, sehen wir, dass in diesem die für uns relevanten Objekte, nämlich die Leptonen gespeichert sind, mit ihren für uns relevanten kinemantischen Eigenschaften $p_\\text{T}$, $\\eta$, $\\phi$, Ladung und Masse.\n",
    "> **Good to know:** Die meisten Events, die vom CMS aufgenommen werden enthalten auch eine Vielzahl an **Jets**. Da diese für unsere Analyse irrelevant sind haben wir sie entfernt um Platz zu sparen."
   ]
  },
  {
   "cell_type": "code",
   "execution_count": null,
   "id": "e07bf66e-32b6-4917-a1d9-c6d2e6c2ae9e",
   "metadata": {},
   "outputs": [],
   "source": [
    "print(data.keys())\n",
    "print(data[\"muons\"])\n",
    "print(data[\"muons\"][\"pt\"])"
   ]
  },
  {
   "cell_type": "markdown",
   "id": "27bb1398",
   "metadata": {},
   "source": [
    "## Definition der Objekte\n",
    "<hr>\n",
    "\n",
    "In `data` sind jetzt all unsere Events enhalten. Da für unsere Analyse die Leptonen so wichtig sind, wollen wir das diese besonders gut rekonstruiert sind. Um das zu garantieren werden wir im Folgenden nur noch Leptonen in Betracht ziehen, die die Folgenden Bedingungen erfüllen:\n",
    "\n",
    "- Der transversale Impuls $p_\\text{T}$ von Myonen bzw. Elektronen ist größer als $5\\,\\text{GeV}$ bzw.  $7\\,\\text{GeV}$\n",
    "- Die Leptonen sind innerhalb des Spurdetektors, also $|\\eta|<2.4$\n",
    "\n",
    "Die erste Bedingung verhindert, dass Elektronen und Myonen \"zu niedrigen\" Energien in unserer Analyse beitragen, da der CMS Detektor Teilchen mit zu niedrigen Energien nicht genau genug vermessen kann. Mit der zweiten Bedingung entfernen wir alle Leptonen, die zu nah \"am Rand\" des Detektors gemessen wurden, denn in dieser Randregion ist der Detektor ebenfalls nicht sehr genau.\n",
    "\n",
    "Wir können zunächst ein Histogram mit den Transversalimpulsen und Pseudorapiditäten der Myonen und Elektronen erstellen."
   ]
  },
  {
   "cell_type": "code",
   "execution_count": null,
   "id": "49a84f7c-463c-444b-bd2d-71281dfc7800",
   "metadata": {},
   "outputs": [],
   "source": [
    "muons = data[\"muons\"]\n",
    "electrons = data[\"electrons\"]\n",
    "\n",
    "plot_kinematics(muons, electrons, label = [\"Muons\", \"Electrons\"])"
   ]
  },
  {
   "cell_type": "markdown",
   "id": "ce24569b",
   "metadata": {},
   "source": [
    "Jetzt können wir die Bedingungen an die Objekte, die wir oben definiert haben, implementieren. Dazu nutzen wir die relationalen Operatoren  `>`  und  `<`, die ihr im Pythontutorial kennengelernt habt:"
   ]
  },
  {
   "cell_type": "code",
   "execution_count": null,
   "id": "baf1fd57-78bd-4f09-a6b2-09cdba06a59e",
   "metadata": {},
   "outputs": [],
   "source": [
    "passes_pt = (muons[\"pt\"] > 5)\n",
    "passes_eta = abs(muons[\"eta\"]) < 2.4"
   ]
  },
  {
   "cell_type": "markdown",
   "id": "b011fb77",
   "metadata": {},
   "source": [
    "Von jetzt an, wollen wir uns nur noch die Myonen angucken, die diese Anforderungen erfüllen. Da beide Anforderungen erfüllt sein sollen, nutzen wir den \"und\" operator `&`. Wir können zusätzlich auch die Anzahl aller Myonen in unserem Datensatz vor und nach dem Cut ausgeben lassen um zu sehen, wie viel Myonen wir verlieren."
   ]
  },
  {
   "cell_type": "code",
   "execution_count": null,
   "id": "70206a9c-fe51-45cb-8b49-9febb269abe7",
   "metadata": {},
   "outputs": [],
   "source": [
    "print(\"Anzahl Myonen vor dem Cut:\", ak.sum(ak.num(muons)))\n",
    "\n",
    "muons = muons[passes_pt & passes_eta]\n",
    "\n",
    "print(\"Anzahl Myonen nach dem Cut:\", ak.sum(ak.num(muons)))"
   ]
  },
  {
   "cell_type": "markdown",
   "id": "ea2df835",
   "metadata": {},
   "source": [
    "Wenn wir uns nun nochmal die Histogramme anschauen sehen wir, dass es keine Myonen mit einem $p_\\text{T}$ unter $5 \\ \\text{GeV}$ und keine Myonen mit $|\\eta| > 2.4$ mehr gibt:"
   ]
  },
  {
   "cell_type": "code",
   "execution_count": null,
   "id": "28ddfef1-c7c7-4a2c-8b24-b6cf12183e9e",
   "metadata": {},
   "outputs": [],
   "source": [
    "plot_kinematics(muons, electrons, label = [\"Muons\", \"Electrons\"])"
   ]
  },
  {
   "cell_type": "markdown",
   "id": "018b9173",
   "metadata": {},
   "source": [
    "Nun müssen aber nicht nur die Myonen, sondern auch die Elektronen $p_\\text{T}$ und $\\eta$ Anforderungen erfüllen (siehe oben). Versucht im Folgenden diese zu implementieren. Um zu überprüfen ob alles funktioniert hat, gebt euch die Anzahl der Elektronen vor und nach Cut aus. Schaut euch ebenfalls die Histogramme nochmals an!"
   ]
  },
  {
   "cell_type": "code",
   "execution_count": null,
   "id": "4876ec67-1ad5-4714-add5-645d2bc2e2cf",
   "metadata": {},
   "outputs": [],
   "source": [
    "# TODO: Implementiert hier die Elektron Bedingungen equivalent zu dem, was wir oben für die Myonen gemacht haben!\n",
    "# TODO: Wie viele Elektronen waren vor und nach dem Cut im Datensatz vorhanden?\n",
    "\n",
    "electrons = \n",
    "n_electrons = ak.num(electrons)\n",
    "print(\"Anzahl Elektronen vor dem Cut:\", ak.sum(n_electrons))\n",
    "\n",
    "passes_pt = \n",
    "passes_eta = \n",
    "electrons = electrons[passes_pt & passes_eta]\n",
    "n_electrons = ak.num(electrons)\n",
    "print(\"Anzahl Elektronen nach dem Cut:\", ak.sum(n_electrons))\n",
    "\n",
    "plot_kinematics(muons, electrons, label = [\"Muons\", \"Electrons\"])"
   ]
  },
  {
   "cell_type": "markdown",
   "id": "82655cca",
   "metadata": {},
   "source": [
    "Spielt gerne mit den Cuts herum! Erhöht die Anforderungen, gebt euch die kinematischen Eigenschaften aus und überprüft ob die Cuts funktioniert haben!"
   ]
  },
  {
   "cell_type": "markdown",
   "id": "4876111a-1839-4a9b-b553-3a2ae217b970",
   "metadata": {},
   "source": [
    "## Selektion der Events\n",
    "<hr>"
   ]
  },
  {
   "cell_type": "markdown",
   "id": "484b14bc-7fe3-468d-bc13-81e9862444b3",
   "metadata": {},
   "source": [
    "Nachdem wir nun unsere Myonen und Elektronen gefiltert haben, können wir uns die kombinierte Masse der vier Leptonen $m_{4\\ell}$ anschauen. Das entsprechende Histogramm kann mit der Funktion `plot_m4l()` erstellt werden, wobei die Elektronen und Myonen als Argumente übergeben werden müssen:"
   ]
  },
  {
   "cell_type": "code",
   "execution_count": null,
   "id": "5c03fc8c-03b3-4f14-95bd-c47ac5bd95bc",
   "metadata": {},
   "outputs": [],
   "source": [
    "plot_m4l(electrons, muons)"
   ]
  },
  {
   "cell_type": "markdown",
   "id": "c2bbdb18-1138-4e61-b0f6-edcb4a2da356",
   "metadata": {},
   "source": [
    "Wir sehen einen markanten Peak, der ber einer Masse von ungefähr 90 GeV liegt. Das dazugehörige Teilchen kennen wir bereits - es ist das Z-Boson (eines der Austauschteilchen der schwachen Wechselwirkung). Doch vom Higgs-Boson, welches wir bei einer Masse von 125 GeV erwarten, fehlt jede Spur. Der Grund hierfür sind **Hintergrundevents**, in anderen Worten, Prozesse die - wie unser Signal - ebenfalls vier Leptonen erzeugen und somit in unserem Histogramm gelandet sind. Wenn wir zu viele dieser Hintergrundevents in unser Histogramm lassen, können wir den Peak des Higgs-Bosons nicht erkennen. In diesem Kapitel versuchen wir die Events zu filtern um Hintergrundevents und $\\text{H}\\to\\text{ZZ}\\to4\\ell$ Events besser zu trennen. Schauen wir uns zunächst die folgenden Events an:"
   ]
  },
  {
   "cell_type": "code",
   "execution_count": null,
   "id": "06d6aa46-fd65-47cb-a09f-39d6c712cacd",
   "metadata": {},
   "outputs": [],
   "source": [
    "event_idx = 30\n",
    "print(\"Event #31\")\n",
    "print(\"Myon Ladung:\", muons[\"charge\"][event_idx])\n",
    "print(\"Elektron Ladung:\", electrons[\"charge\"][event_idx])\n",
    "\n",
    "event_idx = 0\n",
    "print(\"\\nEvent #1\")\n",
    "print(\"Myon Ladung:\", muons[\"charge\"][event_idx])\n",
    "print(\"Elektron Ladung:\", electrons[\"charge\"][event_idx]) "
   ]
  },
  {
   "cell_type": "markdown",
   "id": "4337aeed-73dc-49e5-834a-422f3f92afd7",
   "metadata": {},
   "source": [
    "Um zu verstehen, was an diesen Events \"falsch\" ist, werfen wir nochmals einen Blick auf das Feynman-Diagramm unseres $\\text{H}\\to\\text{ZZ}\\to4\\ell$ Signalprozesses:\n",
    "\n",
    "<img src=\"feynman.png\" alt=\"Feynman_HtoZZto4l\" width=\"300\"> \n",
    "\n",
    "- In Event **#31** finden wir **drei** Myonen und **ein** Elektron. Allerdings kann ein Z-Boson nur in Leptonen des gleichen Typs zerfallen, also entweder $Z\\to e^{+}e^{-}$ oder $Z\\to \\mu^{+}\\mu^{-}$. Es ist also unmöglich eine ungerade Anzahl and Myonen bzw. Elektronen vorzufinden.\n",
    "\n",
    "- In Event **#1** finden wir zwei Myonen und zwei Elektronen. Jedoch sind die Ladungen der Elektronen gleich. Da das Z-Boson elektrisch neutral ist müssen sich die Ladungen der Zerfallsleptonen aufheben. Das ist hier jedoch nicht der Fall.\n",
    "\n",
    "Damit können die beiden obigen Events keine Signalevents sein. In den folgenden Unterkapiteln werden wir Filter einbauen, die **alle** Events entfernen, die ungerade Elektron- bzw. Myonzahlen aufweisen, sowie gegen die Ladungserhaltung verstoßen."
   ]
  },
  {
   "cell_type": "markdown",
   "id": "e059ce89",
   "metadata": {},
   "source": [
    "### Anzahl der Elektronen und Myonen\n",
    "Als ersten Selektionsschritt können wir nun für alle Events fordern, dass es eine gerade Anzahl an Elektronen und Myonen geben muss. Unter dieser Voraussetzung, gibt es für uns drei verschiedene Fälle zu betrachten. Der erste Fall wäre, dass es genau 4 Elektronen gibt und keine Myonen. Welche weiteren zwei Fälle gibt es?\n",
    "\n",
    "In **Python** kann man Forderungen an die Anzahl bestimmter Objekte mit der Funktion `ak.num()` machen (num ist hier kurz für \"number\", also Anzahl). Im Folgenden ist der Fall 4 Elektronen und 0 Myonen bespielhaft implementiert. Ergänzt diesen Fall um die beiden anderen Fälle, die ihr euch überlegt habt."
   ]
  },
  {
   "cell_type": "code",
   "execution_count": null,
   "id": "dc3c6204-50d1-489b-80ee-be5e9e127521",
   "metadata": {},
   "outputs": [],
   "source": [
    "fall_1 = (ak.num(muons) == 0) & (ak.num(electrons) == 4)\n",
    "# TODO: Implementiert hier Fall 2 und Fall 3\n",
    "fall_2 = \n",
    "fall_3 = "
   ]
  },
  {
   "cell_type": "markdown",
   "id": "e90655b4",
   "metadata": {},
   "source": [
    "Nun verlangen wir von allen events, dass sie einen dieser Fälle erfüllen, dafür benutzen wir die \"oder\" funktion in python`|`:"
   ]
  },
  {
   "cell_type": "code",
   "execution_count": null,
   "id": "11291bab-9884-4275-8e15-a7151541a1b1",
   "metadata": {},
   "outputs": [],
   "source": [
    "passes_num = fall_1 | fall_2 | fall_3\n",
    "electrons = electrons[passes_num]\n",
    "muons = muons[passes_num]"
   ]
  },
  {
   "cell_type": "markdown",
   "id": "8472cfed",
   "metadata": {},
   "source": [
    "Jetzt können wir uns erneut die Verteilung der $m_{4\\ell}$ ansehen:"
   ]
  },
  {
   "cell_type": "code",
   "execution_count": null,
   "id": "97306a8a-89fc-4b96-a63b-16711c04efa3",
   "metadata": {},
   "outputs": [],
   "source": [
    "plot_m4l(electrons, muons)"
   ]
  },
  {
   "cell_type": "markdown",
   "id": "48e32b1f-8eaa-436a-9298-cb626e3abf3a",
   "metadata": {},
   "source": [
    "Viel hat sich nicht geändert, es gibt aber noch einige Cuts die wir implementieren können."
   ]
  },
  {
   "cell_type": "markdown",
   "id": "bce906ec",
   "metadata": {},
   "source": [
    "### Ladung der Leptonen\n",
    "Als zweiten Selektrionsschritt verlangen wir dass die Summe der Elektronladungen und die Summe der Myonladungen beide null sind. Für Elektronen kann dies wie folgt implementiert werden:"
   ]
  },
  {
   "cell_type": "code",
   "execution_count": null,
   "id": "e07d888a-70b7-4736-b76d-c464ef4dc210",
   "metadata": {},
   "outputs": [],
   "source": [
    "sum_charge_electron = ak.sum(electrons[\"charge\"], axis = 1)\n",
    "has_0Q_electrons = (sum_charge_electron == 0)"
   ]
  },
  {
   "cell_type": "markdown",
   "id": "e8560037",
   "metadata": {},
   "source": [
    "Hierbei berechnet die Funktion `ak.sum()` die summe der Ladung der Elektronen (`electrons[\"charge\"]`), wobei `axis=1` bewirkt, dass das für jedes Event einzeln gemacht wird und nicht die Ladung über alle Events summiert wird. Dann fordern wir, dass diese Summe genau gleich null ist (`== 0`). Macht im folgenden Block das Gleiche für die Myonen!"
   ]
  },
  {
   "cell_type": "code",
   "execution_count": null,
   "id": "0302a5fc-7a5b-4b1e-b9b4-a0abe541db90",
   "metadata": {},
   "outputs": [],
   "source": [
    "# TODO: Implementiert die Ladungsanforderung für die Myonen!\n",
    "sum_charge_muon = \n",
    "has_0Q_muons ="
   ]
  },
  {
   "cell_type": "markdown",
   "id": "5763055b",
   "metadata": {},
   "source": [
    "Diese Forderungen wenden wir jetzt auf alle Events an, wobei immer **beides** gelten muss, Ladungssumme der Elektronen **und** (`&`) der Myonen ist null:"
   ]
  },
  {
   "cell_type": "code",
   "execution_count": null,
   "id": "a76a19df-098a-46df-9b13-ff209ae868c3",
   "metadata": {},
   "outputs": [],
   "source": [
    "passes_0Q = has_0Q_electrons & has_0Q_muons\n",
    "electrons = electrons[passes_0Q]\n",
    "muons = muons[passes_0Q]"
   ]
  },
  {
   "cell_type": "markdown",
   "id": "26a790b3",
   "metadata": {},
   "source": [
    "Nachdem wir diese zweite Bedingung eingebaut haben, können wir uns wieder die Verteilung $m_{4\\ell}$ anzeigen lassen. Macht dies im unteren Codeblock!"
   ]
  },
  {
   "cell_type": "code",
   "execution_count": null,
   "id": "9066a4c0-d939-4892-adc6-22f86a2bc4d0",
   "metadata": {},
   "outputs": [],
   "source": [
    "# TODO: Lasst euch die m_4l verteilung anzeigen!"
   ]
  },
  {
   "cell_type": "markdown",
   "id": "397f9124-964e-4744-bb4c-bc62278982fa",
   "metadata": {},
   "source": [
    "Jetzt könnt ihr womöglich schon einen sehr kleinen Peak bei 125 GeV sehen. Um diesen noch deutlicher sichtbar zu machen, wenden wir nun eine Bedingung an, die den Untergrund noch weiter reduzieren soll."
   ]
  },
  {
   "cell_type": "markdown",
   "id": "c0c78814",
   "metadata": {},
   "source": [
    "### Z Massen Fenster\n",
    "Da die vier Leptonen in unserem Endzustand aus zwei Z-Bosonen entspringen, können wir uns jetzt die Leptonen angucken, die am ehesten \"zusammen gehören\", also vom gleichen Z abstammen. Für diese sollte nämlich gelten, dass die invariante Masse ungefähr der Z Masse ($m_Z = 91\\,\\text{GeV}$) enspricht. Außerdem ergibt es Sinn zu fordern, dass die Leptonen in einem solchen Paar, nicht zu nah aneinander sind, damit wir sicher sein können, dass beide tatsächlich aus dem ursprünglichen Prozess kommen und nicht eines erst später abgestrahlt wurde.\n",
    "\n",
    "Etwas konkreter, rekonstruieren wir mit einem Algorithmus (implementiert als `get_Z_candidates()`) die zwei Leptonpaare die am ehesten zusammen gehören und berechnen deren kombinierte Masse und Abstand. Für die invariante Masse von Paar 1 soll gelten $40\\,\\text{GeV} < $ `m_Z1` $<120\\,\\text{GeV}$, für Paar 2 soll gelten $12\\,\\text{GeV} < $ `m_Z2` $ <120\\,\\text{GeV}$. Für die Abstände der Leptonen von Paar 1 und Paar 2 soll gelten `dR1`$>0.02$, bzw. `dR2` $>0.02$.\n",
    "\n",
    "Im folgenden Block ist eine Implementierung angefangen. Versucht diese zu vervollständigen!\n",
    "\n",
    "> **Good to know:** Die Funktion `get_Z_candidates()` geht alle möglichen (und erlaubten) Kombination von Leptonen durch und wählt das Leptonpaar, dessen Masse am nähesten am Z-Boson liegt als Paar #1 aus. Das übrig gebliebene Paar ist dann Paar #2. "
   ]
  },
  {
   "cell_type": "code",
   "execution_count": null,
   "id": "d824d50e-04ac-4c81-8d31-38d213a5c2c2",
   "metadata": {},
   "outputs": [],
   "source": [
    "### TODO: Implementiert die Cuts\n",
    "### Z Fenster\n",
    "mZ_1, mZ_2, dR1, dR2 = get_Z_candidates(muons, electrons)\n",
    "passes_Z1 = \n",
    "passes_Z2 = \n",
    "\n",
    "### dR cut\n",
    "passes_dRcut =\n",
    "\n",
    "# Beide zusammenführen\n",
    "passes_Zcuts =\n",
    "electrons = electrons[passes_Zcuts]\n",
    "muons = muons[passes_Zcuts]"
   ]
  },
  {
   "cell_type": "markdown",
   "id": "01b5add3",
   "metadata": {},
   "source": [
    "Und nun könnt ihr euch $m_{4\\ell}$ wieder anzeigen lassen:"
   ]
  },
  {
   "cell_type": "code",
   "execution_count": null,
   "id": "163571d7-5f58-4d6d-af05-9eb61f1ac0b6",
   "metadata": {},
   "outputs": [],
   "source": [
    "plot_m4l(electrons, muons)"
   ]
  },
  {
   "cell_type": "markdown",
   "id": "22c1ddcb",
   "metadata": {},
   "source": [
    "Probiert mal die Fenstergröße um die Z-Masse, sowie den dR-cut zu verändern und guckt, wie es sich auf die $m_{4\\ell}$-Verteilung auswirkt. "
   ]
  },
  {
   "cell_type": "markdown",
   "id": "eb6fa950",
   "metadata": {},
   "source": [
    "### $p_\\text{T}$ Bedingung im 2e2$\\mu$ Kanal\n",
    "\n",
    "Im 2e2 $\\mu$ kanal muss aus \"technischen\" Gründen (bei Interesse fragt gerne die Betreuer*innen) ein zusätzlicher $p_\\text{T}$-cut gemacht werden. Dieser ist implementiert als `get_2e2mu_pT_cut()`:"
   ]
  },
  {
   "cell_type": "code",
   "execution_count": null,
   "id": "367d8411-6579-4a7f-8b25-6104f6c3b008",
   "metadata": {},
   "outputs": [],
   "source": [
    "passes_pt_2e2mu = get_e_mu_pT_cut(electrons, muons)\n",
    "electrons = electrons[passes_pt_2e2mu]\n",
    "muons = muons[passes_pt_2e2mu]"
   ]
  },
  {
   "cell_type": "markdown",
   "id": "c6e04acb",
   "metadata": {},
   "source": [
    "Diese letzte Anforderung sollte aber keinen großen Unterschied machen:"
   ]
  },
  {
   "cell_type": "code",
   "execution_count": null,
   "id": "141bc31a-9e23-4f20-af05-195ba1d25170",
   "metadata": {},
   "outputs": [],
   "source": [
    "plot_m4l(electrons, muons)"
   ]
  },
  {
   "cell_type": "markdown",
   "id": "6709c1e5-2370-4fa7-ba3c-eb7c46303c35",
   "metadata": {},
   "source": [
    "Bei der Betrachtung unseres Histogramms sticht nun ein Datenpunkt sehr stark hervor. Bei einer Masse von ca. 125 GeV zählen wir 10 Events, wobei in den umliegenden Bins in der Regel nur 1-2 Events enthalten sind. Mit unserem heutigen Wissen ist dieser Ausreißer keineswegs überraschend, denn wir würden bei dieser Masse das Signal des Higgs Bosons erwarten. Wie statistisch Signifikant ist dieser Peak? Könnte es ein statistischer Ausreißer sein? Diskutiert untereinander!"
   ]
  },
  {
   "cell_type": "markdown",
   "id": "76fdc2b9",
   "metadata": {},
   "source": [
    "## Vergleich mit Simulation\n",
    "<hr>"
   ]
  },
  {
   "cell_type": "markdown",
   "id": "fcae48ba-fca4-4c15-ae01-beb38e98fb44",
   "metadata": {},
   "source": [
    "Im nächsten Schritt wollen wir unser $m_{4\\ell}$-Histogramm mit **simulierten Daten** vergleichen. Simulationen spielen eine sehr wichtige Rolle in der Teilchenphysik, da sie uns erlauben gemessene Daten mit der Erwartung des Standardmodels zu vergleichen. Auf diese Weise können wir verifizieren, dass das Standardmodel (auf dem die Simulationen schließlich basieren) die realen Daten beschreibt und neue, unentdeckte Physik leichter erkennen.\n",
    "\n",
    "Zwei physikalische Prozess spielen hier eine besondere Rolle: Zum einen der Hintergrund, der fast komplett aus sogenannten \"Drell-Yan\"-Ereignissen besteht (in unserem Fall hauptsächlich $Z/\\gamma \\to ZZ \\to 4\\ell$) und zum anderen aus unserem Signalprozess $\\text{H}\\to\\text{ZZ}\\to4\\ell$. \n",
    "\n",
    "Laden wir zunächst die Simulation."
   ]
  },
  {
   "cell_type": "code",
   "execution_count": null,
   "id": "78f21be1-ae7a-48a3-8529-e9ff5911b5ff",
   "metadata": {},
   "outputs": [],
   "source": [
    "sim = load_sim(\"sim_files\")\n",
    "print(sim.keys())\n",
    "print(sim[\"ZZTo4e\"].keys())"
   ]
  },
  {
   "cell_type": "markdown",
   "id": "8da7036a-53df-47c2-b762-24879e4a03b8",
   "metadata": {},
   "source": [
    "Wir sehen nun dass `sim` im Gegensatz zu `data` nicht nur aus Myonen und Elektronen besteht sondern zunächst in die verschiedenen Subprozesse eingeteilt ist. Als nächstes müssen wir all diese Subprozesse durch die gleichen Lepton- und Eventselektionen schicken, wie die originalen Daten - nur so können wir einen wirklichen Vergleich ziehen!\n",
    "\n",
    "Im unteren Codeblock ist eine **Schleife** implementiert, die alle Anweisungen innerhalb der Schleife für alle Subprozesse durchführt. Ergänzt die fehlenden Anweisungen, wie ihr es bereits oben gemacht habt. Ihr könnt selbstverständlich eure Lösungen kopieren und wieder einfügen."
   ]
  },
  {
   "cell_type": "code",
   "execution_count": null,
   "id": "17a7f482-827c-41cb-8cfa-064625a1a883",
   "metadata": {},
   "outputs": [],
   "source": [
    "electrons_by_process = {}\n",
    "muons_by_process = {}\n",
    "\n",
    "for process in sim.keys():\n",
    "\n",
    "    sim_electrons = sim[process][\"electrons\"]\n",
    "    sim_muons = sim[process][\"muons\"]\n",
    "\n",
    "    ### --- Auswahl der Objekte ------------------------------------------------------------------------------------\n",
    "    passes_pt = (sim_muons[\"pt\"] > 5)\n",
    "    passes_eta = abs(sim_muons[\"eta\"]) < 2.4\n",
    "    sim_muons = sim_muons[passes_pt & passes_eta]\n",
    "    \n",
    "    passes_pt = \n",
    "    passes_eta = \n",
    "    sim_electrons = \n",
    "\n",
    "    \n",
    "\n",
    "    ### --- Anzahl der Elektronen und Myonen -----------------------------------------------------------------------\n",
    "    fall_1 = (ak.num(sim_muons) == 0) & (ak.num(sim_electrons) == 4)\n",
    "    fall_2 =\n",
    "    fall_3 =\n",
    "    passes_num = fall_1 | fall_2 | fall_3\n",
    "    sim_electrons = sim_electrons[passes_num]\n",
    "    sim_muons = sim_muons[passes_num]\n",
    "\n",
    "\n",
    "    \n",
    "    ### --- Ladung der Leptonen ------------------------------------------------------------------------------------\n",
    "    sum_charge_electron = ak.sum(sim_electrons[\"charge\"], axis = 1)\n",
    "    has_0Q_electrons = (sum_charge_electron == 0)\n",
    "    sum_charge_muon = \n",
    "    has_0Q_muons = \n",
    "    passes_0Q = has_0Q_electrons & has_0Q_muons\n",
    "    sim_electrons = sim_electrons[passes_0Q]\n",
    "    sim_muons = sim_muons[passes_0Q]\n",
    "\n",
    "\n",
    "    \n",
    "    ### --- Z Massenfenster -----------------------------------------------------------------------------------------\n",
    "    mZ_1, mZ_2, dR1, dR2 = get_Z_candidates(sim_muons, sim_electrons)\n",
    "    passes_Z1 = \n",
    "    passes_Z2 = \n",
    "\n",
    "    ### dR cut\n",
    "    passes_dRcut =\n",
    "\n",
    "    # Beide zusammenführen\n",
    "    passes_Zcuts = \n",
    "    sim_electrons = sim_electrons[passes_Zcuts]\n",
    "    sim_muons = sim_muons[passes_Zcuts]\n",
    "\n",
    "\n",
    "\n",
    "    ### pT Bedingung im 2e2mu Kanal\n",
    "    passes_pt_2e2mu = get_e_mu_pT_cut(sim_electrons, sim_muons)\n",
    "    sim_electrons = sim_electrons[passes_pt_2e2mu]\n",
    "    sim_muons = sim_muons[passes_pt_2e2mu]\n",
    "    \n",
    "\n",
    "    electrons_by_process[process] = sim_electrons\n",
    "    muons_by_process[process] = sim_muons"
   ]
  },
  {
   "cell_type": "markdown",
   "id": "eaed70df-e32b-48d6-a6d5-babbe1a356cc",
   "metadata": {},
   "source": [
    "Abschließend plotten wir wieder ein $m_{4\\ell}$-Histogramm, diesmal aber mit einer anderen Funktion, da wir auch die Simulationen mit abbilden wollen."
   ]
  },
  {
   "cell_type": "code",
   "execution_count": null,
   "id": "5f3f74d4-3e13-43f1-90d7-5e76650b1e12",
   "metadata": {},
   "outputs": [],
   "source": [
    "plot_m4l_dvmc(\n",
    "    data = [electrons, muons],\n",
    "    sim = [electrons_by_process, muons_by_process]\n",
    ")"
   ]
  },
  {
   "cell_type": "markdown",
   "id": "17afaf79-29f9-4774-b76c-092c5cdb1435",
   "metadata": {},
   "source": [
    "In **blau** sehen wir die Simulation unserer Hintergrundevents. Wir können erkennen, dass sie unseren Z-Peak sehr gut beschreibt, aber auch den kontinuierlichen Untergrund rechts des Z-Peaks. In **orange** sehen wir unser Signal bei der erwarteten Masse von 125 GeV. Hier erkennen wir, dass sich die Datenpunkte sogar leicht über der Signalerwartung befinden. Wenn wir beachten, dass auch Simulationen ebenfalls Unsicherheiten haben (die wir aus Zeit- und Komplexitätsgründen hier nicht weiter behandeln), dann lässt sich im Allgemeinen eine **gute** Übereinstimmung zwischen den aufgenommenen Daten und den Simulationen feststellen. Das Higgs Boson des Standardmodel ist damit in der Lage den Peak bei 125 GeV zu erklären.\n",
    "\n",
    "Da wir nun auch die Simulationen haben, können wir ein weiteres Mal, diesmal etwas quantitativer über die statistische Einordnung dieses Peaks sprechen. Wie wir nun sehen, gehört nicht nur der Datenpunkt mit 7 Einträgen zum Higgs-Peak, sondern auch der Datenpunkt daneben. Laut des Standardmodels würden wir in beiden Bins ca. 2 Hintergrundevents erwarten. Wir zählen jedoch 4 bzw. 7 Events in den Daten. Addieren wir beide Bins zusammen und subtrahieren den Hintergrund, dann erhalten wir:\n",
    "$$ S = N_1 + N_2 - (B_1 + B_2) = 4 + 7 - (2 + 2) = 7 $$\n",
    "Events Überschuß. Dieser Überschuß hat eine statistische Signifikanz von\n",
    "$$ \\sigma = \\frac{S}{\\sqrt{B}} = \\frac{7}{\\sqrt{4}} = 3.5 \\ .$$\n",
    "Die Wahrscheinlichkeit, dass es sich um eine statistische Fluktuation handelt liegt damit bei ca. 0.05\\% - entsprechend einem Münzwurf, der **11 mal** hintereinander auf Zahl landet.\n",
    "\n",
    "> **Good to know:** Da ein ähnlicher Überschuss bei der gleichen Masse im $H\\to\\gamma\\gamma$ Kanal festgestellt wurde konnte man die Ergebnisse kombinieren und eine höhere statistische Signifikanz erreichen. Zusammen mit weiteren Kanälen konnte man die $5\\sigma$-Marke knacken.\n",
    "\n",
    "\n",
    "<font color=\"red\"> **Wichtig:** Die statistische Analyse der Ergebnisse haben wir stark vereinfacht damit sie leicht verstanden werden kann. Bitte beachtet, dass eine rigorose Analyse viele weitere Faktoren beinhaltet und dadurch auch deutlich komplizierter, aber selbstverständlich auch akkurater und konsistenter ist. </font>"
   ]
  }
 ],
 "metadata": {
  "kernelspec": {
   "display_name": "Python 3 (ipykernel)",
   "language": "python",
   "name": "python3"
  },
  "language_info": {
   "codemirror_mode": {
    "name": "ipython",
    "version": 3
   },
   "file_extension": ".py",
   "mimetype": "text/x-python",
   "name": "python",
   "nbconvert_exporter": "python",
   "pygments_lexer": "ipython3",
   "version": "3.12.3"
  }
 },
 "nbformat": 4,
 "nbformat_minor": 5
}
