{
 "cells": [
  {
   "cell_type": "markdown",
   "id": "6eb76a70-491e-4fa2-8a97-823447aa8e91",
   "metadata": {
    "deletable": false,
    "tags": []
   },
   "source": [
    "<center><img width=\"250\" align=\"right\" src=\"./images/RWTH_Logo.png\" /></center>\n",
    "<br></br>\n",
    "\n",
    "# Einführung in Python\n",
    "\n",
    "Um nun tatsächlich mit Machine Learning zu starten, brauchen wir zunächst eine Möglichkeit mit dem Computer zu kommunizieren. \n",
    "Die Schnittstelle zwischen einem Menschen und dem Computer wird durch Programmiersprachen realisiert. Wir verwenden hier die Programmiersprache `Python` und das Ziel dieses Notebooks ist das Erlernen der Grundlagen dieser Sprache.\n",
    "<br></br>\n",
    "Um __Python-Code__ ausführen zukönnen, wird eine Umgebung benötigt, in welcher der Code als solcher interpretiert wird. Hier verwenden wir `Jupyter-Notebooks`, welche aus einzelnen Zellen besteht, in welche man Python-Code schreiben und ausführen kann. Zum Ausführen wählt man die entsprechende Zelle aus und drückt auf den __Play-Button__ auf der oberen Seite oder alternativ durch das Verwenden des __Shift-Enter__ Tasten.\n",
    "<br></br>\n",
    "Jetzt kann es losgehen, wir lernen die Programmiersprache Python!\n",
    "\n",
    "_Credits: Diese Einführung wurde inspiriert durch das Modul \"Einführung in die Programmierung für datenbasierte Wissenschaften\" gehalten von Prof. Dr. Ulrik Schröder an der RWTH_\n",
    "\n",
    "\n",
    "___\n",
    "## Inhaltsverzeichnis\n",
    "* [Python als Taschenrechner](#Python-als-Taschenrechner)\n",
    "* [Variablen](#Variablen)\n",
    "* [Kommentare](#Kommentare)\n",
    "* [Ausgabe mit der print Funktion](#Ausgabe-mit-der-print-Funktion)\n",
    "* [Relationale Operatoren](#Relationale-Operatoren)\n",
    "* [Boolsche Operationen](#Boolsche-Operationen)\n",
    "* [Listen](#Listen)\n",
    "* [Verzeichnisse](#Verzeichnisse)\n",
    "* [Funktionen](#Funktionen)\n",
    "* [Bibliotheken](#Bibliotheken)\n",
    "* [Arrays](#Arrays)\n",
    "<br></br>"
   ]
  },
  {
   "cell_type": "markdown",
   "id": "818291b0-4099-493f-a1dc-4821d6b93feb",
   "metadata": {},
   "source": [
    "___\n",
    "## [Python als Taschenrechner](#Inhaltsverzeichnis)"
   ]
  },
  {
   "cell_type": "markdown",
   "id": "195bcfdd-b385-4989-9cd4-324b2ed3103a",
   "metadata": {},
   "source": [
    "Wir beginnen mit einfachen, mathematischen Berechnungen in Python."
   ]
  },
  {
   "cell_type": "code",
   "execution_count": 8,
   "id": "1e6347c9-e9ef-4cca-8077-3c5d17025582",
   "metadata": {
    "tags": []
   },
   "outputs": [
    {
     "data": {
      "text/plain": [
       "4"
      ]
     },
     "execution_count": 8,
     "metadata": {},
     "output_type": "execute_result"
    }
   ],
   "source": [
    "1+3"
   ]
  },
  {
   "cell_type": "code",
   "execution_count": 9,
   "id": "57898547-89b8-4d41-bc6a-3480c7ca7f6c",
   "metadata": {
    "tags": []
   },
   "outputs": [
    {
     "data": {
      "text/plain": [
       "3"
      ]
     },
     "execution_count": 9,
     "metadata": {},
     "output_type": "execute_result"
    }
   ],
   "source": [
    "5-2"
   ]
  },
  {
   "cell_type": "code",
   "execution_count": 10,
   "id": "ac5bcf8a-90f2-4920-8dda-bf986f1123bf",
   "metadata": {
    "tags": []
   },
   "outputs": [
    {
     "data": {
      "text/plain": [
       "12"
      ]
     },
     "execution_count": 10,
     "metadata": {},
     "output_type": "execute_result"
    }
   ],
   "source": [
    "3*4"
   ]
  },
  {
   "cell_type": "code",
   "execution_count": 11,
   "id": "544ac7c8-22de-4ded-9701-ced207d76408",
   "metadata": {
    "tags": []
   },
   "outputs": [
    {
     "data": {
      "text/plain": [
       "1.3333333333333333"
      ]
     },
     "execution_count": 11,
     "metadata": {},
     "output_type": "execute_result"
    }
   ],
   "source": [
    "4/3"
   ]
  },
  {
   "cell_type": "markdown",
   "id": "bb6b2398-b78a-40ac-b861-1d33b96e9f55",
   "metadata": {},
   "source": [
    "Wie wir sehen, können wir die Zellen einfach ausführen und das Ergebnis der Rechnung wird unterhalb ausgegeben."
   ]
  },
  {
   "cell_type": "markdown",
   "id": "543285c7-6c3e-47fb-8a0c-afd88c03fb6c",
   "metadata": {},
   "source": [
    "Damit wir die Ergebnisse von Berechnungen zwischenspeichern können, führen wir im nächsten Abschnitt __Variablen__ ein.\n",
    "<br></br>\n",
    "<span style=\"color: blue\"> <strong> Kleine Aufgabe: </strong> </span> Probiert ruhig ein paar dieser Operationen in der nächsten Zeile aus. Beispiel: Punkt vor Strich testen, Klammersetzung"
   ]
  },
  {
   "cell_type": "code",
   "execution_count": null,
   "id": "c8601d05-ccac-4e4d-bd35-3e27847ebc63",
   "metadata": {},
   "outputs": [],
   "source": []
  },
  {
   "cell_type": "markdown",
   "id": "05a98a82-cad1-46bd-bcc8-c29cff27eee5",
   "metadata": {},
   "source": [
    "___\n",
    "## [Variablen](#inhaltsverzeichnis)\n",
    "\n",
    "Manchmal wollen wir die Ergebnisse von Berechnungen oder bestimmte Werte speichern, um sie zu einem späteren Zeitpunkt des Programmes erneut zu verwenden. Dafür nutzen wir __Variablen__. Mit dem `=`-Zeichen können wir in Python Variablen bestimmte Werte zuweisen."
   ]
  },
  {
   "cell_type": "code",
   "execution_count": 12,
   "id": "17adbf1a-2811-47ad-a7c8-18613e9527fa",
   "metadata": {
    "tags": []
   },
   "outputs": [
    {
     "data": {
      "text/plain": [
       "3"
      ]
     },
     "execution_count": 12,
     "metadata": {},
     "output_type": "execute_result"
    }
   ],
   "source": [
    "x = 1\n",
    "y = 2\n",
    "x + y"
   ]
  },
  {
   "cell_type": "markdown",
   "id": "f1d7951e-76f0-4dcc-ae07-a941f5d91034",
   "metadata": {},
   "source": [
    "Der Variablen `x` wird der Wert $1$ zugeordnet, der Variablen `y` hingegen der Wert $2$. Dann wird die Summe der beiden Variablen berechnet.\n",
    "\n",
    "<center><img width=\"1000\" align=\"mid\" src=\"images/Variable-Assignment-1.png\" /></center>"
   ]
  },
  {
   "cell_type": "markdown",
   "id": "3ea012cf-a86c-4b67-870f-1f09339c4388",
   "metadata": {},
   "source": [
    "Die neue Zuweisung einer Variablen ändert ihren Wert und der alte Wert geht verloren:"
   ]
  },
  {
   "cell_type": "code",
   "execution_count": 13,
   "id": "4dc97e60-536c-44e8-a94b-a13700de42c5",
   "metadata": {
    "tags": []
   },
   "outputs": [
    {
     "data": {
      "text/plain": [
       "7"
      ]
     },
     "execution_count": 13,
     "metadata": {},
     "output_type": "execute_result"
    }
   ],
   "source": [
    "x = 5\n",
    "x + y"
   ]
  },
  {
   "cell_type": "markdown",
   "id": "2e61f8eb-d67b-43d1-95e9-6a35b0ea018e",
   "metadata": {},
   "source": [
    "Der Wert der Variablen `x` wurde somit zu $5$ geändert, während der Wert der Variablen `y` weiterhin $2$ beträgt. Somit ist die Summe nun $7$.\n",
    "\n",
    "Es ist wichtig, dass eine Variable definiert wird, bevor sie verwendet wird. Die folgende Zelle gibt beim Ausführen eine __Fehlermeldung__ aus: `NameError: name 'z' not defined.`"
   ]
  },
  {
   "cell_type": "code",
   "execution_count": 14,
   "id": "c638c66d-4124-4760-9467-682aabe9515f",
   "metadata": {
    "tags": []
   },
   "outputs": [
    {
     "ename": "NameError",
     "evalue": "name 'z' is not defined",
     "output_type": "error",
     "traceback": [
      "\u001b[1;31m---------------------------------------------------------------------------\u001b[0m",
      "\u001b[1;31mNameError\u001b[0m                                 Traceback (most recent call last)",
      "\u001b[1;32m<ipython-input-14-81bc2ade3d70>\u001b[0m in \u001b[0;36m<module>\u001b[1;34m\u001b[0m\n\u001b[1;32m----> 1\u001b[1;33m \u001b[0mx\u001b[0m \u001b[1;33m+\u001b[0m \u001b[0mz\u001b[0m\u001b[1;33m\u001b[0m\u001b[1;33m\u001b[0m\u001b[0m\n\u001b[0m\u001b[0;32m      2\u001b[0m \u001b[0mz\u001b[0m \u001b[1;33m=\u001b[0m \u001b[1;36m10\u001b[0m\u001b[1;33m\u001b[0m\u001b[1;33m\u001b[0m\u001b[0m\n",
      "\u001b[1;31mNameError\u001b[0m: name 'z' is not defined"
     ]
    }
   ],
   "source": [
    "x + z\n",
    "z = 10"
   ]
  },
  {
   "cell_type": "markdown",
   "id": "3ce2b8a4-d5e2-4cb1-bd11-84f8f5a8c114",
   "metadata": {},
   "source": [
    "Das Problem ist hier, dass die Variable erst definiert wurde, nachdem sie bereits für eine Summe aufgerufen werden sollte. `Python` führt das Programm als Zeile für Zeile nach einander aus.\n",
    "Die Fehlermeldung weist uns jedoch direkt auf das Problem hin, indem sie auf die Zeile zeigt, in welcher der Fehler auftritt. <br>\n",
    "Führen wir die Zuweisung der Variablen `z` zuerst durch, läuft das Programm ohne Fehler.\n"
   ]
  },
  {
   "cell_type": "code",
   "execution_count": null,
   "id": "a63b53d3-fe3a-4102-80d4-846e9bafd9e8",
   "metadata": {
    "tags": []
   },
   "outputs": [
    {
     "data": {
      "text/plain": [
       "15"
      ]
     },
     "execution_count": 11,
     "metadata": {},
     "output_type": "execute_result"
    }
   ],
   "source": [
    "z = 10\n",
    "x + z"
   ]
  },
  {
   "cell_type": "markdown",
   "id": "935d20a3-7fde-4c1c-a820-effcbed032ee",
   "metadata": {},
   "source": [
    "\n",
    "Das Auftreten von Fehlermeldungen ist beim Programmieren ganz normal und sollte nicht zur Verzweiflung führen. Bei jeglichen Problemen könnt ihr euch einfach an die Betreuer*innen wenden.\n",
    "<br></br>\n",
    "\n",
    "> **Anmerkung:** Bei der Benennung von Variablen müssen bestimmte Dinge beachtet werden:\n",
    "> 1. In den Variablennamen dürfen keine Leerzeichen auftauchen, verwende beispielsweise `variable_1` statt `variable 1`\n",
    "> 2. `Python` ist \"case-sensitive\". Das bedeutet, dass zwischen Groß- und Kleinbuchstaben unterschieden wird. `Variable_1` ist eine andere Variable als `variable_1`\n",
    "> 3. Die Verwendung von Umlauten (ä,ü,ö) sollte vermieden werden.\n",
    "> 4. Viele Sonderzeichen wie .,?!\"#+- etc. sind nicht erlaubt. \n",
    "\n",
    "<span style=\"color: blue\"> <strong> Kleine Aufgabe: </strong> </span> Definiere in der folgenden Zeile drei Variablen mit geeigneten Namen, die:\n",
    "1. Die Anzahl der Stunden pro Tag\n",
    "2. Die Anzahl der Minuten pro Stunde\n",
    "3. Die Anzahl der Sekunden pro Minute\n",
    "\n",
    "enthalten. Berechne mit diesen Variablen die Anzahl der Sekunden pro Tag."
   ]
  },
  {
   "cell_type": "code",
   "execution_count": null,
   "id": "3ee1eada-b90c-4c9c-a7b9-46ddb9c20f32",
   "metadata": {},
   "outputs": [],
   "source": []
  },
  {
   "cell_type": "markdown",
   "id": "35a4e695-2073-44ef-9a6d-9be66ae52a93",
   "metadata": {},
   "source": [
    "___\n",
    "## [Kommentare](#inhaltsverzeichnis)\n",
    "\n",
    "Häufig will man bestimmte Erklärungen und Gedanken zum Code hinzufügen, ohne das dies vom Programm beachtet wird. Dafür kann man __Kommentare__ verwenden. Diese werden durch ein `#` (Hash) gekennzeichnet. Alles hinter dem dem `#` wird bis zum Ende der Zeile ignoriert."
   ]
  },
  {
   "cell_type": "code",
   "execution_count": null,
   "id": "dcb6d30e-bdb1-4981-b0da-77acc13a7222",
   "metadata": {},
   "outputs": [
    {
     "data": {
      "text/plain": [
       "10"
      ]
     },
     "execution_count": 20,
     "metadata": {},
     "output_type": "execute_result"
    }
   ],
   "source": [
    "# Dies ist ein Kommentar, er wird vom Programm ignoriert\n",
    "x = 2 # Hier wird die Variable x definiert und erhält den Wert 2\n",
    "y = 5\n",
    "x * y"
   ]
  },
  {
   "cell_type": "markdown",
   "id": "63e80459-dabd-44ce-a6ae-3efcc27d7862",
   "metadata": {},
   "source": [
    "___\n",
    "## [Ausgabe mit der print Funktion](#inhaltsverzeichnis)\n",
    "\n",
    "Um die Werte von bestimmten Variablen oder Text von dem Programm ausgeben zu lassen, existiert die in Python eingebaute Funktion `print()`.<br>"
   ]
  },
  {
   "cell_type": "code",
   "execution_count": null,
   "id": "9dcc1f7a-8797-437f-9d0d-ed393f29f871",
   "metadata": {
    "tags": []
   },
   "outputs": [
    {
     "name": "stdout",
     "output_type": "stream",
     "text": [
      "Wir lernen Python für Teilchenphysik.\n"
     ]
    }
   ],
   "source": [
    "print(\"Wir lernen Python für Teilchenphysik.\")"
   ]
  },
  {
   "cell_type": "code",
   "execution_count": null,
   "id": "8444d44b-2e50-48d9-990f-e1103926391d",
   "metadata": {
    "tags": []
   },
   "outputs": [
    {
     "name": "stdout",
     "output_type": "stream",
     "text": [
      "Die Variable x hat den Wert: 10\n"
     ]
    }
   ],
   "source": [
    "x = 10\n",
    "\n",
    "print(\"Die Variable x hat den Wert:\", x)"
   ]
  },
  {
   "cell_type": "markdown",
   "id": "f9e23524-49de-46be-ac19-d3566263f2f7",
   "metadata": {},
   "source": [
    "Die `print`-Funktion kann also auch mehrere Dinge hintereinander ausgeben, welche mit einem Komma getrennt werden. Zunächst gibt sie den `str` \"Die Variable x hat den Wert\" aus, dann die tatsächlich Variable `x`, welche hier den Wert $10$ hat.\n",
    "\n",
    "`print()` ist also sehr nützlich, um bestimmte Informationen auszugeben.\n",
    "<br></br>\n",
    "\n",
    "<span style=\"color: blue\"> <strong> Kleine Aufgabe: </strong> </span> Nutze die `print`-Funktion, um dich mit Namen und Alter vorzustellen. Berechne daraus dein ungefähres Alter in Sekunden.\n"
   ]
  },
  {
   "cell_type": "code",
   "execution_count": null,
   "id": "c0a4398c-49ca-46ca-965f-6d17f9d2f10d",
   "metadata": {},
   "outputs": [],
   "source": []
  },
  {
   "cell_type": "markdown",
   "id": "78fbe101-8759-4af4-bb1d-dc828a8eb0fe",
   "metadata": {},
   "source": [
    "___\n",
    "## [Relationale Operatoren](#inhaltsverzeichnis)\n",
    "\n",
    "Um Werte miteinander zu vergleichem, gibt es __relationale Operatoren__ in `Python`. Diese vergleichen zwei Werte und geben je nach Vergleich ein Ergebnis in Form eines `bool` also Wahrheitswertes aus. <br>\n",
    "In der nächsten Tabelle sind die wichtigsten relationalen Operatoren und ihre Bedeutung dargestellt.\n",
    "\n",
    "| Symbol | Durchgeführte Aufgabe |\n",
    "|----|---|\n",
    "| == | Wahr, wenn beide Seiten gleich sind |\n",
    "| != | Wahr, wenn beide Seiten ungleich sind |\n",
    "| < |Wahr, wenn die linke Seite kleiner ist |\n",
    "| > | Wahr, wenn die linke Seite größer ist |\n",
    "| <= | Wahr, wenn die linke Seite kleiner oder gleich der rechten Seite ist |\n",
    "| >= | Wahr, wenn die linke Seite größer oder gleich der rechten Seite ist |\n",
    "\n",
    "Wir schauen uns dies anhand von ein paar Beispielen an:"
   ]
  },
  {
   "cell_type": "code",
   "execution_count": null,
   "id": "f6e86904-693f-48dd-bc63-1a5154262109",
   "metadata": {},
   "outputs": [
    {
     "data": {
      "text/plain": [
       "False"
      ]
     },
     "execution_count": 21,
     "metadata": {},
     "output_type": "execute_result"
    }
   ],
   "source": [
    "10 == 12"
   ]
  },
  {
   "cell_type": "code",
   "execution_count": null,
   "id": "a1befae4-f3f7-4655-bd92-de8d3fdd1447",
   "metadata": {},
   "outputs": [
    {
     "data": {
      "text/plain": [
       "True"
      ]
     },
     "execution_count": 22,
     "metadata": {},
     "output_type": "execute_result"
    }
   ],
   "source": [
    "10 != 12"
   ]
  },
  {
   "cell_type": "code",
   "execution_count": null,
   "id": "2703ddf5-1bd8-41f8-a2b0-7aeb3f53aff5",
   "metadata": {},
   "outputs": [
    {
     "data": {
      "text/plain": [
       "True"
      ]
     },
     "execution_count": 23,
     "metadata": {},
     "output_type": "execute_result"
    }
   ],
   "source": [
    "10 < 12"
   ]
  },
  {
   "cell_type": "code",
   "execution_count": null,
   "id": "e1037458-bad6-4b5f-85a0-2454318b2693",
   "metadata": {},
   "outputs": [
    {
     "data": {
      "text/plain": [
       "False"
      ]
     },
     "execution_count": 24,
     "metadata": {},
     "output_type": "execute_result"
    }
   ],
   "source": [
    "10 > 12"
   ]
  },
  {
   "cell_type": "code",
   "execution_count": null,
   "id": "128fe9aa-92c7-45c1-ad2e-67a42bb933d7",
   "metadata": {},
   "outputs": [
    {
     "data": {
      "text/plain": [
       "False"
      ]
     },
     "execution_count": 25,
     "metadata": {},
     "output_type": "execute_result"
    }
   ],
   "source": [
    "10 > 10"
   ]
  },
  {
   "cell_type": "code",
   "execution_count": null,
   "id": "c7fda36a-a02d-4666-ad14-a6b948e1ee7d",
   "metadata": {},
   "outputs": [
    {
     "data": {
      "text/plain": [
       "True"
      ]
     },
     "execution_count": 26,
     "metadata": {},
     "output_type": "execute_result"
    }
   ],
   "source": [
    "10 >= 10"
   ]
  },
  {
   "cell_type": "markdown",
   "id": "9c74dad2-93f0-47bf-bb86-2dc8b77e354e",
   "metadata": {},
   "source": [
    "Das klappt natürlich auch mit Variablen:"
   ]
  },
  {
   "cell_type": "code",
   "execution_count": null,
   "id": "2a535e35-ab29-4094-b1f8-808e8ddbb07b",
   "metadata": {},
   "outputs": [
    {
     "data": {
      "text/plain": [
       "True"
      ]
     },
     "execution_count": 27,
     "metadata": {},
     "output_type": "execute_result"
    }
   ],
   "source": [
    "x = 5\n",
    "y = 3\n",
    "\n",
    "x > y"
   ]
  },
  {
   "cell_type": "code",
   "execution_count": null,
   "id": "00b28a39-282f-448a-ae16-2bd06f04b156",
   "metadata": {},
   "outputs": [
    {
     "data": {
      "text/plain": [
       "False"
      ]
     },
     "execution_count": 28,
     "metadata": {},
     "output_type": "execute_result"
    }
   ],
   "source": [
    "x == y"
   ]
  },
  {
   "cell_type": "markdown",
   "id": "895a2c7d-f323-4257-96df-3e3b38763b33",
   "metadata": {},
   "source": [
    "Während die Größer-Kleiner-Operatoren für Texte (also Buchstabenfolgen, auch genannt \"string\") natürlich keinen Sinn machen, kann man dennoch die Gleichheit prüfen."
   ]
  },
  {
   "cell_type": "code",
   "execution_count": null,
   "id": "d0fb242c-31d5-40f2-8a34-cccc165dd71a",
   "metadata": {
    "tags": []
   },
   "outputs": [
    {
     "data": {
      "text/plain": [
       "False"
      ]
     },
     "execution_count": 14,
     "metadata": {},
     "output_type": "execute_result"
    }
   ],
   "source": [
    "a = \"some text\"\n",
    "b = \"some other text\"\n",
    "c = \"some text\"\n",
    "\n",
    "a == b"
   ]
  },
  {
   "cell_type": "code",
   "execution_count": null,
   "id": "eb1fef66-a2da-4fa2-a6f3-2c30e354598e",
   "metadata": {
    "tags": []
   },
   "outputs": [
    {
     "data": {
      "text/plain": [
       "True"
      ]
     },
     "execution_count": 15,
     "metadata": {},
     "output_type": "execute_result"
    }
   ],
   "source": [
    "a == c"
   ]
  },
  {
   "cell_type": "markdown",
   "id": "5877a7dc-fb73-4756-bef0-87e27af070ab",
   "metadata": {},
   "source": [
    "<br></br>\n",
    "<span style=\"color: blue\"> <strong> Kleine Aufgabe: </strong> </span> Welchen Boolean-Wert (`True` oder `False`) nehmen die folgenden Variablen an? Überprüfe deine Überlegungen, indem du die Variablen mit der `print`-Funktion ausgibst."
   ]
  },
  {
   "cell_type": "code",
   "execution_count": null,
   "id": "de75629d-546e-4ec7-a226-a5b395da796c",
   "metadata": {},
   "outputs": [],
   "source": [
    "a = (3*2 > 2+3)\n",
    "b = (100 != 4*25)\n",
    "c = (\"Ein bisschen Text\" == \"Ein bisschen Text!\")\n",
    "d = (25/5 < 2*2)\n",
    "\n",
    "\n",
    "\n",
    "\n",
    "\n"
   ]
  },
  {
   "cell_type": "markdown",
   "id": "4e3652e3-6114-4ae8-816a-c84a93bf4a5b",
   "metadata": {},
   "source": [
    "___\n",
    "## [Boolsche Operationen](#inhaltsverzeichnis)\n",
    "\n",
    "Man kann mehrere `bool`-Werte (unter anderem) mithilfe von __Bitweisen Operationen__ vergleichen:\n",
    "\n",
    "Durchgeführte Aufgabe | Bitweiser Operator\n",
    "---|---|\n",
    "`x \\| y` |Wahr, wenn eines oder beide wahr sind | \n",
    "`x & y` |Wahr, wenn beide Wahr sind |\n",
    "`( ... )` |In Klammern setzen, um die Rangfolge zu beeinflussen |"
   ]
  },
  {
   "cell_type": "code",
   "execution_count": 18,
   "id": "2b974091-adcf-4b6f-a69f-cc06c4492f75",
   "metadata": {},
   "outputs": [
    {
     "data": {
      "text/plain": [
       "True"
      ]
     },
     "execution_count": 18,
     "metadata": {},
     "output_type": "execute_result"
    }
   ],
   "source": [
    "x = (5 > 2)  # x erhält den Wert \"True\"\n",
    "y = (5 == 4) # y erhält den Wert \"False\"\n",
    "\n",
    "x | y"
   ]
  },
  {
   "cell_type": "code",
   "execution_count": 19,
   "id": "f3ecd40c-fbda-47a2-aa36-522032da4a93",
   "metadata": {},
   "outputs": [
    {
     "data": {
      "text/plain": [
       "False"
      ]
     },
     "execution_count": 19,
     "metadata": {},
     "output_type": "execute_result"
    }
   ],
   "source": [
    "x & y"
   ]
  },
  {
   "cell_type": "code",
   "execution_count": 20,
   "id": "c0216237-a329-483a-a7ba-f1d2c9bd6b3a",
   "metadata": {},
   "outputs": [
    {
     "data": {
      "text/plain": [
       "True"
      ]
     },
     "execution_count": 20,
     "metadata": {},
     "output_type": "execute_result"
    }
   ],
   "source": [
    "x | (x & y) "
   ]
  },
  {
   "cell_type": "markdown",
   "id": "0361bb93",
   "metadata": {},
   "source": [
    "<span style=\"color: blue\"> <strong> Kleine Aufgabe: </strong> </span> Könnte ihr nur durch Klammersetzung den Wahrheitswert der folgenden Operation auf ``False`` ändern?"
   ]
  },
  {
   "cell_type": "code",
   "execution_count": 22,
   "id": "be92ca3b-12da-4dd3-8651-39da6d5f664d",
   "metadata": {},
   "outputs": [
    {
     "data": {
      "text/plain": [
       "True"
      ]
     },
     "execution_count": 22,
     "metadata": {},
     "output_type": "execute_result"
    }
   ],
   "source": [
    "x | x & y"
   ]
  },
  {
   "cell_type": "markdown",
   "id": "9e1706aa-1fcb-403f-884f-b6633166d2eb",
   "metadata": {},
   "source": [
    "___\n",
    "## [Listen](#inhaltsverzeichnis)\n",
    "\n",
    "Bisher haben wir vier verschiedene Datentypen kennengelernt, `int`, `float`, `str` und `bool`. Doch was machen wir nun, wenn viele Daten verarbeiten wollen? Angenommen wir wollen die durchschnittliche Größe der Bevölkerung bestimmen und führen dafür eine Vermessung von 1000 Proband\\*innen durch. Es wäre sehr unpraktisch und unübersichtlich 1000 Variablen für jeden Proband*innen zu erstellen. Stattdessen bietet uns `Python` hier eine bessere Lösung: __Listen__\n",
    "\n",
    "Listen werden in Python mit eckigen Klammern `[` begonnen, Objekte mit einem `,` getrennt und schließlich mit einem `]` wieder geschlossen:\n",
    "\n",
    "```Python\n",
    "Liste = [<erstes Objekt>, <zweites Objekt>, <drittes Objekt>]\n",
    "```"
   ]
  },
  {
   "cell_type": "code",
   "execution_count": null,
   "id": "777fd23c-8196-499e-aabf-4949a42cbaa9",
   "metadata": {},
   "outputs": [
    {
     "name": "stdout",
     "output_type": "stream",
     "text": [
      "[0, 5, 10, 15, 20, 25, 30, 35, 40, 45, 50]\n"
     ]
    }
   ],
   "source": [
    "fuenfer_reihe = [0, 5, 10, 15, 20, 25, 30, 35, 40, 45, 50]\n",
    "\n",
    "print(fuenfer_reihe)"
   ]
  },
  {
   "cell_type": "markdown",
   "id": "669fccb5-3119-46ff-8777-0769fc400f8e",
   "metadata": {},
   "source": [
    "Natürlich lassen sich Listen auch mit anderen Datentypen füllen:"
   ]
  },
  {
   "cell_type": "code",
   "execution_count": null,
   "id": "0293fd72-0c48-4a33-9920-50d691d09964",
   "metadata": {
    "tags": []
   },
   "outputs": [
    {
     "name": "stdout",
     "output_type": "stream",
     "text": [
      "['Einkaufen', 'Staubsaugen', 'Python lernen', 'Sport']\n"
     ]
    }
   ],
   "source": [
    "to_do_liste = [\"Einkaufen\", \"Staubsaugen\", \"Python lernen\", \"Sport\"]\n",
    "\n",
    "print(to_do_liste)"
   ]
  },
  {
   "cell_type": "markdown",
   "id": "1d2378a3-2e05-42d0-ab34-cad04c37e261",
   "metadata": {},
   "source": [
    "<br></br>\n",
    "<a name=\"Indizierung\"></a>\n",
    "#### [Indizierung](#anfang)\n",
    "\n",
    "Um ein bestimmtes Element in der Liste zurückgreifen zu können, muss man dessen __Index__ (Position) kennen. In Programmiersprachen beginnt das Zählen jedoch bei $0$. Danach werden die Elemente weiter durchnummeriert.\n",
    "\n",
    "<center><img width=\"1000\" align=\"mid\" src=\"images/Indizierung.png\" /></center>\n",
    "\n",
    "Um das Element am Index `i` auszuwählen, schreiben wir hinter die Variable, welche die Liste enthält in eckigen Klammern `[i]`."
   ]
  },
  {
   "cell_type": "code",
   "execution_count": 1,
   "id": "09ef44be-51e2-411a-a574-885ca55e5898",
   "metadata": {},
   "outputs": [],
   "source": [
    "liste = [2, 4, 8, 16, 32]\n",
    "\n",
    "erstes_element = liste[0]\n",
    "viertes_element = liste[3]"
   ]
  },
  {
   "cell_type": "markdown",
   "id": "b74b81be",
   "metadata": {},
   "source": [
    "Indizierung biete noch viel mehr möglichkeiten, zum Beispiel alle Elemete bis zu einem bestimmten Index auszugeben. Dafür benutzt man einen Doppelpunkt:"
   ]
  },
  {
   "cell_type": "code",
   "execution_count": null,
   "id": "7627fd2e",
   "metadata": {},
   "outputs": [
    {
     "name": "stdout",
     "output_type": "stream",
     "text": [
      "[2, 4, 8]\n"
     ]
    }
   ],
   "source": [
    "erste_drei_elemente = liste[:3]\n",
    "print(erste_drei_elemente)"
   ]
  },
  {
   "cell_type": "markdown",
   "id": "346dd6bf-b195-47af-b756-a5e5d146aa94",
   "metadata": {},
   "source": [
    "<br></br>\n",
    "<span style=\"color: blue\"> <strong> Kleine Aufgabe: </strong> </span> Erstelle eine Liste namens `Namen`, in welcher du die Namen deiner Mitschülerinnen und Betreuer\\*innen einträgst. Lass dir dann mithilfe von Indizierung den ersten, dritten und letzten Namen ausgeben."
   ]
  },
  {
   "cell_type": "code",
   "execution_count": null,
   "id": "a2791583-1877-43f9-ab33-e62d9970b305",
   "metadata": {},
   "outputs": [],
   "source": []
  },
  {
   "cell_type": "markdown",
   "id": "caab22ef",
   "metadata": {},
   "source": [
    "___\n",
    "## [Verzeichnisse](#inhaltsverzeichnis)\n",
    "\n",
    "Ein Datentyp, mit dem man solche Information etwas übersichtlicher speichern kann, sind die Verzeichnisse (englisch \"dictionary\", oder kurz *dict* ). Hier wird jedem element (\"item\") ein Schlüssel (\"key\"), also ein Name zugeordnet, mit dem man dieses Element aufrufen kann. Diese Schlüssel sind also vergleichbar mit den Indizes bei einer Liste. Hier ein Beispiel:"
   ]
  },
  {
   "cell_type": "code",
   "execution_count": null,
   "id": "737db292",
   "metadata": {},
   "outputs": [
    {
     "name": "stdout",
     "output_type": "stream",
     "text": [
      "[2, 4, 6, 8, 10, 12, 14, 16, 18, 20]\n",
      "8\n"
     ]
    }
   ],
   "source": [
    "einer_reihe = [1, 2, 3, 4, 5, 6, 7, 8, 9, 10]\n",
    "zweier_reihe = [2, 4, 6, 8, 10, 12, 14, 16, 18, 20]\n",
    "dreier_reihe = [3, 6, 9, 12, 15, 18, 21, 24, 27, 30]\n",
    "\n",
    "zahlen_dict = {\"Einer\": einer_reihe, \"Zweier\": zweier_reihe, \"Dreier\": dreier_reihe}\n",
    "\n",
    "print(zahlen_dict[\"Zweier\"])\n",
    "print(zahlen_dict[\"Einer\"][7])"
   ]
  },
  {
   "cell_type": "markdown",
   "id": "ae4738db-6d8f-456d-a8cb-c6b5542c8fb9",
   "metadata": {
    "tags": []
   },
   "source": [
    "___\n",
    "## [Funktionen](#inhaltsverzeichnis)\n",
    "\n",
    "In Python gibt es eingebaute __Funktionen__, welche bestimmte Aufgaben erfüllen und auf andere Objekte angewendet werden können. Diese Funktionen haben einen bestimmten Namen, mit welchem sie aufgerufen werden können und empfangen das Objekt als Argument in Klammern `()`. Eine dieser Funktionen habt ihr mit der `print()`-Funktion schon kennen gelernt. Ein weiters Beispiel ist die Funktion `len()`. Wenn man diese auf eine Liste anwendet, gibt sie uns die Länge der Liste aus."
   ]
  },
  {
   "cell_type": "code",
   "execution_count": null,
   "id": "717a8f97-c81e-4e57-a646-39d8ed21f228",
   "metadata": {
    "tags": []
   },
   "outputs": [
    {
     "data": {
      "text/plain": [
       "4"
      ]
     },
     "execution_count": 19,
     "metadata": {},
     "output_type": "execute_result"
    }
   ],
   "source": [
    "liste = [1,2,3,4]\n",
    "len(liste)"
   ]
  },
  {
   "cell_type": "markdown",
   "id": "13464cef-1c7f-477c-bafb-9841b3260427",
   "metadata": {},
   "source": [
    "Jetzt wollen wir lernen, wie wir unsere eigenen Funktionen definieren.\n",
    "\n",
    "Die Definition einer Funktion beginnt mit dem Schlüsselwort `def` gefolgt von dem Namen, welchen wir der Funktion geben wollen. In Klammern spezifizieren wir die Argumente/Parameter, welche wir der Funktion übergeben wollen. Nach dem üblichen `:`-Zeichen, folgt der eingerückte Anweisungsblock der die Operationen der Funktion enthält. Mit dem `return` Schlüsselwort wird schließlich das gewünschte Resultat ausgegeben.\n",
    "\n",
    "<center><img width=\"1000\" align=\"mid\" src=\"images/Function.png\" /></center>\n",
    "\n",
    "Wir schauen uns dies an einem Beispiel an."
   ]
  },
  {
   "cell_type": "code",
   "execution_count": null,
   "id": "579cc53b-d30e-46c3-b963-7bf29275c1e8",
   "metadata": {
    "tags": []
   },
   "outputs": [],
   "source": [
    "def add_one(number):\n",
    "    return number + 1"
   ]
  },
  {
   "cell_type": "markdown",
   "id": "071046e2-6b79-4ff9-9bdb-2a758bd99533",
   "metadata": {},
   "source": [
    "__Erklärung__: Wir definieren hier eine Funktion mit dem Namen `add_one`. Der Eingabeparameter der Funktion wird als `number` bezeichnet. In der Funktion wird die eingegebene Nummer um $1$ erhöht und schließlich ausgegeben."
   ]
  },
  {
   "cell_type": "code",
   "execution_count": null,
   "id": "f0388506-1c61-4e88-b4d9-5ad94ab5cf61",
   "metadata": {
    "tags": []
   },
   "outputs": [
    {
     "name": "stdout",
     "output_type": "stream",
     "text": [
      "new_y = 6\n"
     ]
    }
   ],
   "source": [
    "y = 5\n",
    "new_y = add_one(y)\n",
    "\n",
    "print(\"new_y =\", new_y)"
   ]
  },
  {
   "cell_type": "markdown",
   "id": "6c5b3a9c-efe2-4d26-897b-25c799b775e7",
   "metadata": {},
   "source": [
    "Es gibt auch Funktionen ohne Eingabeparameter. Diese Funktionen führen einfach einen bestimmten Prozess beim Aufruf durch, unabhängig von irgendwelchen Parametern:"
   ]
  },
  {
   "cell_type": "code",
   "execution_count": null,
   "id": "7281e461-585e-47a6-a8c2-afb907776fcd",
   "metadata": {
    "tags": []
   },
   "outputs": [],
   "source": [
    "def auskunft_adresse():\n",
    "    print(\"Erika Mustermann\")\n",
    "    print(\"Musterstraße 5\")\n",
    "    print(\"52062 Aachen\")"
   ]
  },
  {
   "cell_type": "code",
   "execution_count": null,
   "id": "7f2e83d4-ead4-40ba-9654-58a686900d52",
   "metadata": {
    "tags": []
   },
   "outputs": [
    {
     "name": "stdout",
     "output_type": "stream",
     "text": [
      "Erika Mustermann\n",
      "Musterstraße 5\n",
      "52062 Aachen\n"
     ]
    }
   ],
   "source": [
    "auskunft_adresse()"
   ]
  },
  {
   "cell_type": "markdown",
   "id": "862bceb6-1dbd-46ed-8fb7-251bc8d90c12",
   "metadata": {},
   "source": [
    "Wir sehen also, dass dies nützlich sein kann, wenn man bestimmte Abläufe wiederholen möchte, ohne immer wieder den selben Code zu schreiben.\n",
    "\n",
    "Zuletzt gibt es natürlich auch Funktionen mit zwei oder mehr Eingabeparametern. Hierbei kann man dann jedoch bei der Eingabe der Parameter spezifizieren, um welchen Parameter sich handelt. <br>\n",
    "So sieht zum Beispiel eine Funktion aus, die zwei Zahlen miteinander addiert:"
   ]
  },
  {
   "cell_type": "code",
   "execution_count": null,
   "id": "9a8e038a-0f9d-4106-b2f6-192088418557",
   "metadata": {
    "tags": []
   },
   "outputs": [],
   "source": [
    "def addition(summand1, summand2):\n",
    "    summe = summand1 + summand2\n",
    "    return summe"
   ]
  },
  {
   "cell_type": "code",
   "execution_count": null,
   "id": "da0efd07-e2ce-4569-90c2-0f4659977099",
   "metadata": {
    "tags": []
   },
   "outputs": [
    {
     "data": {
      "text/plain": [
       "22"
      ]
     },
     "execution_count": 28,
     "metadata": {},
     "output_type": "execute_result"
    }
   ],
   "source": [
    "addition(10,12) # hier wird die erste Zahl automatisch als summand1 interpretiert"
   ]
  },
  {
   "cell_type": "markdown",
   "id": "d3f9f220-6079-4929-8fa1-1b6649a6c361",
   "metadata": {},
   "source": [
    "Oder wenn man den Eingabeparameter spezifiziert:"
   ]
  },
  {
   "cell_type": "code",
   "execution_count": null,
   "id": "b39255c3-ed73-4ac8-90da-dfd504e1958d",
   "metadata": {
    "tags": []
   },
   "outputs": [
    {
     "data": {
      "text/plain": [
       "22"
      ]
     },
     "execution_count": 29,
     "metadata": {},
     "output_type": "execute_result"
    }
   ],
   "source": [
    "addition(summand1 = 10, summand2 = 12)"
   ]
  },
  {
   "cell_type": "markdown",
   "id": "59e48e8e-39d8-4d21-8b49-38f1b10d5290",
   "metadata": {},
   "source": [
    "<span style=\"color: blue\"> <strong> Kleine Aufgabe: </strong> </span> Schreibe eine kleine Funktion namens `multiplikation`, die zwei Eingabeparameter namens `faktor1` und `faktor2` empfängt und das Produkt der beiden Faktoren ausgibt. Probiere deine Funktion ruhig ein wenig aus!"
   ]
  },
  {
   "cell_type": "code",
   "execution_count": null,
   "id": "cddef6c0-6ad9-48bf-bec4-fc2a66fb6846",
   "metadata": {},
   "outputs": [],
   "source": []
  },
  {
   "cell_type": "markdown",
   "id": "4a44da03",
   "metadata": {},
   "source": [
    "___\n",
    "## [Bibliotheken](#inhaltsverzeichnis)\n",
    "\n",
    "Wir haben jetzt die Grundbausteine des Programmierens mit Pyhton kenne gelernt. Aber um große Projekte zu meistern, fehlt noch etwas sehr wichtiges: die Bibliotheken. Alle Funktionen, die wir uns bisher angeschaut haben (z.b. `print()`) kommen aus der python __Standard Bibliothek__ (\"standard library\"). Es gibt aber auch die Möglichkeit noch andere Bibliotheken zu importieren, die noch viel mehr funktionen zur verfügung stellen. Ein Beispiel dafür ist die `matplotlib`. Dies ist eine Python Bibliothek die auf die graphische Darstellung (eng.: plotting) von Histogrammen und mathematischen Funktionen spezialisiert ist. Um auf die Funktionen dieser Bibliothek zugreifen zu können, müssen wir diese importieren. Das geht beispielsweise so:"
   ]
  },
  {
   "cell_type": "code",
   "execution_count": 24,
   "id": "df6dc99f",
   "metadata": {},
   "outputs": [],
   "source": [
    "import matplotlib.pyplot as plt"
   ]
  },
  {
   "cell_type": "markdown",
   "id": "bd0ef5fd",
   "metadata": {},
   "source": [
    "Dort haben wir jetzt eine Untergruppe der `matplotlib`, nämlich `pyplot` importiert und dieser einen Namen zugewiesen, `plt`. Wenn wir jetzt auf funktionen von `myplotlib.pyplot` zugreifen wollen, müssen wir nur `plt.` davor machen, zum beispiel mit der funktion `plot(x,y)`:"
   ]
  },
  {
   "cell_type": "code",
   "execution_count": 25,
   "id": "4cd50166",
   "metadata": {},
   "outputs": [
    {
     "data": {
      "image/png": "[encoded data removed]",
      "text/plain": [
       "<Figure size 432x288 with 1 Axes>"
      ]
     },
     "metadata": {
      "needs_background": "light"
     },
     "output_type": "display_data"
    }
   ],
   "source": [
    "plt.plot([0,1,2,3,4,5,6,7,8,9], [0,1,4,9,16,25,36,49,64,81])\n",
    "plt.show()"
   ]
  },
  {
   "cell_type": "markdown",
   "id": "2581d97b",
   "metadata": {},
   "source": [
    "Probiert es ruhig selber einmal aus. Dokumentation zu den funktionen findet sich z.B. im Internet: https://matplotlib.org/stable/api/_as_gen/matplotlib.pyplot.plot.html"
   ]
  },
  {
   "cell_type": "code",
   "execution_count": null,
   "id": "97ff18e5",
   "metadata": {},
   "outputs": [],
   "source": []
  },
  {
   "cell_type": "markdown",
   "id": "6c586909",
   "metadata": {},
   "source": [
    "___\n",
    "## [Arrays](#inhaltsverzeichnis)\n",
    "\n",
    "Die Liste haben wir als Datenformat schon kennen gelertn. Auch wenn Listen sehr flexibel sind, ist es für uns oft besser, ein anderes Datenformat zu benutzen: Das Array. Dies ist ähnlich wie eine liste, verhält sich mathematisch aber so wie ein Vektor (oder in zwei dimensionen wie eine Matrix), was für das rechnen damit sehr nützlich ist. Ein weiterer großer Vorteil ist, dass die technische Implementierung viel effizienter ist und Operationen damit daher um einen Factor ~50 schneller ablaufen! Diese arrays sind allerdings nicht in der python __Standard Bibliothek__ enthalten und man muss sie __importieren__. Eine beliebte Bibiliothek für arrays ist `numpy`, wir werden in unserer Analyse die Bibliothek `awkward arrays` verwenden, die in vielen aspekten auf `numpy` aufbaut, aber noch etwas mehr Möglichkeiten bietet."
   ]
  },
  {
   "cell_type": "code",
   "execution_count": 26,
   "id": "e93c6535",
   "metadata": {},
   "outputs": [],
   "source": [
    "import awkward as ak"
   ]
  },
  {
   "cell_type": "markdown",
   "id": "f15c6dfe",
   "metadata": {},
   "source": [
    "Eine Möglichkeit ein `ak.Array()` zu initialisieren ist ein Liste an Werten zu übergeben:"
   ]
  },
  {
   "cell_type": "code",
   "execution_count": 27,
   "id": "0c4ba635",
   "metadata": {},
   "outputs": [
    {
     "name": "stdout",
     "output_type": "stream",
     "text": [
      "[0, 1, 2, 3, 4, 5, 6, 7, 8, 9]\n"
     ]
    }
   ],
   "source": [
    "einer_array = ak.Array([0,1,2,3,4,5,6,7,8,9])\n",
    "print(einer_array)"
   ]
  },
  {
   "cell_type": "markdown",
   "id": "d4c6b87f",
   "metadata": {},
   "source": [
    "Mit diesen arrays kann man auch die mathematischen Operationen durchführen, die wir oben mit einfachen Zahlen gemacht haben:"
   ]
  },
  {
   "cell_type": "code",
   "execution_count": 28,
   "id": "95e8b119",
   "metadata": {},
   "outputs": [
    {
     "name": "stdout",
     "output_type": "stream",
     "text": [
      "[3, 4, 5, 6, 7, 8, 9, 10, 11, 12]\n"
     ]
    }
   ],
   "source": [
    "einer_plus_drei = einer_array + 3\n",
    "print(einer_plus_drei)\n"
   ]
  },
  {
   "cell_type": "markdown",
   "id": "ae5df051",
   "metadata": {},
   "source": [
    "Probiert auch die anderen Rechenoperationen aus! Kann man auch zwei arrays addieren?"
   ]
  },
  {
   "cell_type": "code",
   "execution_count": null,
   "id": "723597ba",
   "metadata": {},
   "outputs": [],
   "source": []
  },
  {
   "cell_type": "markdown",
   "id": "7621150a",
   "metadata": {},
   "source": [
    "Die arrays kann man nicht nur wie gerade in einer Dimension erzeugen, sondern auch in mehreren. Ein array in zwei Dimensionen kann man sich vorstellen wie eine Matrix, oder eine Liste an arrays:"
   ]
  },
  {
   "cell_type": "code",
   "execution_count": 29,
   "id": "c1a24e65",
   "metadata": {},
   "outputs": [
    {
     "name": "stdout",
     "output_type": "stream",
     "text": [
      "[[1, 2, 3], [4, 5, 6], [7, 8, 9]]\n",
      "[[0, 1, 2], [0, 2, 4], [0, 3, 6]]\n"
     ]
    }
   ],
   "source": [
    "matrix_array = ak.Array(\n",
    "    [[1, 2, 3],\n",
    "     [4, 5, 6],\n",
    "     [7, 8, 9]]\n",
    ")\n",
    "\n",
    "einer_zwier_dreier = ak.Array([einer_array[:3], einer_array[:3]*2, einer_array[:3]*3])\n",
    "\n",
    "print(matrix_array)\n",
    "print(einer_zwier_dreier)"
   ]
  },
  {
   "cell_type": "markdown",
   "id": "4392f209",
   "metadata": {},
   "source": [
    "<br></br>\n",
    "<span style=\"color: blue\"> <strong> Kleine Aufgabe: </strong> </span> Erzeugt eine Matrix, die das komplette ein-mal-eins enthält!"
   ]
  },
  {
   "cell_type": "code",
   "execution_count": null,
   "id": "69890de2",
   "metadata": {},
   "outputs": [],
   "source": []
  },
  {
   "cell_type": "markdown",
   "id": "125e66fd-d290-4d71-855c-8dd80c1c6112",
   "metadata": {},
   "source": [
    "Die Vergleichsoperationen, die wir oben schon für Zahlen kennen gelernt haben, kann man auch auf die arrays anwendeden. Aber Anstatt eines __bool__ Wertes, ist das Ergebnis ein __array__ an bool-Werten:"
   ]
  },
  {
   "cell_type": "code",
   "execution_count": 31,
   "id": "1fed84d9-b493-43de-9f3e-c2e2544d4417",
   "metadata": {},
   "outputs": [
    {
     "name": "stdout",
     "output_type": "stream",
     "text": [
      "[False, False, False, True, True]\n"
     ]
    }
   ],
   "source": [
    "x = ak.Array([-1, -2, 0, 1, 2])\n",
    "is_greater_zero = x > 0\n",
    "print(is_greater_zero)"
   ]
  },
  {
   "cell_type": "markdown",
   "id": "ca3471cf",
   "metadata": {},
   "source": [
    "Eine weitere nützliche Eigenschaft dieser Array ist es, dass wenn man ihnen eben ein solchen array mit booleans als index übergibt, gibt es ein array mit nur den Werten zurück, an denen das Index-array `True` war:"
   ]
  },
  {
   "cell_type": "code",
   "execution_count": 32,
   "id": "6ba6bf40-d5f4-412f-8540-d06168867ea7",
   "metadata": {},
   "outputs": [
    {
     "name": "stdout",
     "output_type": "stream",
     "text": [
      "[1, 2]\n"
     ]
    }
   ],
   "source": [
    "\n",
    "x_greater_zero = x[is_greater_zero]\n",
    "print(x_greater_zero)"
   ]
  },
  {
   "cell_type": "markdown",
   "id": "ccab2d71",
   "metadata": {},
   "source": [
    "Es gibt auch noch viele weitere nützliche Funktionen, z.B. `ak.num()` und `ak.sum()`. Könnt ihr herausfinden was diese Funktionen bezwecken?"
   ]
  },
  {
   "cell_type": "code",
   "execution_count": null,
   "id": "8eb22656",
   "metadata": {},
   "outputs": [],
   "source": []
  }
 ],
 "metadata": {
  "kernelspec": {
   "display_name": "Python 3 (ipykernel)",
   "language": "python",
   "name": "python3"
  },
  "language_info": {
   "codemirror_mode": {
    "name": "ipython",
    "version": 3
   },
   "file_extension": ".py",
   "mimetype": "text/x-python",
   "name": "python",
   "nbconvert_exporter": "python",
   "pygments_lexer": "ipython3",
   "version": "3.12.3"
  }
 },
 "nbformat": 4,
 "nbformat_minor": 5
}
