{
 "cells": [
  {
   "cell_type": "markdown",
   "id": "6eb76a70-491e-4fa2-8a97-823447aa8e91",
   "metadata": {
    "deletable": false,
    "tags": []
   },
   "source": [
    "<center><img width=\"250\" align=\"right\" src=\"images/RWTH_Logo.png\" /></center>\n",
    "<br></br>\n",
    "\n",
    "<a name=\"anfang\"></a>\n",
    "# Einführung in Python\n",
    "\n",
    "Um nun tatsächlich mit Machine Learning zu starten, brauchen wir zunächst eine Möglichkeit mit dem Computer zu kommunizieren. \n",
    "Die Schnittstelle zwischen einem Menschen und dem Computer wird durch Programmiersprachen realisiert. Wir verwenden hier die Programmiersprache `Python` und das Ziel dieses Notebooks ist das Erlernen der Grundlagen dieser Sprache.\n",
    "<br></br>\n",
    "Um __Python-Code__ ausführen zukönnen, wird eine Umgebung benötigt, in welcher der Code als solcher interpretiert wird. Hier verwenden wir `Jupyter-Notebooks`, welche aus einzelnen Zellen besteht, in welche man Python-Code schreiben und ausführen kann. Zum Ausführen wählt man die entsprechende Zelle aus und drückt auf den __Play-Button__ auf der oberen Seite oder alternativ durch das Verwenden des __Shift-Enter__ Tasten.\n",
    "<br></br>\n",
    "Jetzt kann es losgehen, wir lernen die Programmiersprache Python!\n",
    "\n",
    "_Credits: Diese Einführung wurde inspiriert durch das Modul \"Einführung in die Programmierung für datenbasierte Wissenschaften\" gehalten von Prof. Dr. Ulrik Schröder an der RWTH_\n",
    "___\n",
    "<a name=\"anfang\"></a>\n",
    "## Überblick\n",
    "* [Python als Taschenrechner](#Python_als_Taschenrechner)\n",
    "* [Variablen](#Variablen)\n",
    "* [Variablenbenennung](#Variablenbenennung)\n",
    "* [Grundlegendste Datentypen](#Grundlegendste_Datentypen)\n",
    "* [Kommentare](#Kommentare)\n",
    "* [Ausgabe mit der Print-Funktion](#Ausgabe_mit_print)\n",
    "* [Relationale Operatoren](#Relationale_Operatoren)\n",
    "    * [Boolsche Operationen](#Boolsche_Operationen)\n",
    "* [Bedingte Anweisungen](#Konditionale_Programmierung)\n",
    "* [Listen](#Listen)\n",
    "    * [Indizierung von Listen](#Indizierung)\n",
    "* [Funktionen](#Funktionen)\n",
    "* [Abschluss](#fazit)\n",
    "<br></br>\n",
    "___"
   ]
  },
  {
   "cell_type": "markdown",
   "id": "818291b0-4099-493f-a1dc-4821d6b93feb",
   "metadata": {},
   "source": [
    "<a name=\"Python_als_Taschenrechner\"></a>\n",
    "## [Python als Taschenrechner](#anfang)"
   ]
  },
  {
   "cell_type": "markdown",
   "id": "195bcfdd-b385-4989-9cd4-324b2ed3103a",
   "metadata": {},
   "source": [
    "Wir beginnen mit einfachen, mathematischen Berechnungen in Python."
   ]
  },
  {
   "cell_type": "code",
   "execution_count": 1,
   "id": "1e6347c9-e9ef-4cca-8077-3c5d17025582",
   "metadata": {
    "tags": []
   },
   "outputs": [
    {
     "data": {
      "text/plain": [
       "4"
      ]
     },
     "execution_count": 1,
     "metadata": {},
     "output_type": "execute_result"
    }
   ],
   "source": [
    "1+3"
   ]
  },
  {
   "cell_type": "code",
   "execution_count": 2,
   "id": "57898547-89b8-4d41-bc6a-3480c7ca7f6c",
   "metadata": {
    "tags": []
   },
   "outputs": [
    {
     "data": {
      "text/plain": [
       "3"
      ]
     },
     "execution_count": 2,
     "metadata": {},
     "output_type": "execute_result"
    }
   ],
   "source": [
    "5-2"
   ]
  },
  {
   "cell_type": "code",
   "execution_count": 3,
   "id": "ac5bcf8a-90f2-4920-8dda-bf986f1123bf",
   "metadata": {
    "tags": []
   },
   "outputs": [
    {
     "data": {
      "text/plain": [
       "12"
      ]
     },
     "execution_count": 3,
     "metadata": {},
     "output_type": "execute_result"
    }
   ],
   "source": [
    "3*4"
   ]
  },
  {
   "cell_type": "code",
   "execution_count": 4,
   "id": "544ac7c8-22de-4ded-9701-ced207d76408",
   "metadata": {
    "tags": []
   },
   "outputs": [
    {
     "data": {
      "text/plain": [
       "1.3333333333333333"
      ]
     },
     "execution_count": 4,
     "metadata": {},
     "output_type": "execute_result"
    }
   ],
   "source": [
    "4/3"
   ]
  },
  {
   "cell_type": "markdown",
   "id": "bb6b2398-b78a-40ac-b861-1d33b96e9f55",
   "metadata": {},
   "source": [
    "Wie wir sehen, können wir die Zellen einfach ausführen und das Ergebnis der Rechnung wird unterhalb ausgegeben."
   ]
  },
  {
   "cell_type": "markdown",
   "id": "543285c7-6c3e-47fb-8a0c-afd88c03fb6c",
   "metadata": {},
   "source": [
    "Damit wir die Ergebnisse von Berechnungen zwischenspeichern können, führen wir im nächsten Abschnitt __Variablen__ ein.\n",
    "<br></br>\n",
    "<span style=\"color: blue\"> <strong> Kleine Aufgabe: </strong> </span> Probiert ruhig ein paar dieser Operationen in der nächsten Zeile aus. Beispiel: Punkt vor Strich testen"
   ]
  },
  {
   "cell_type": "code",
   "execution_count": null,
   "id": "c8601d05-ccac-4e4d-bd35-3e27847ebc63",
   "metadata": {},
   "outputs": [],
   "source": []
  },
  {
   "cell_type": "markdown",
   "id": "05a98a82-cad1-46bd-bcc8-c29cff27eee5",
   "metadata": {},
   "source": [
    "___\n",
    "<a name=\"Variablen\"></a>\n",
    "## [Variablen](#anfang)\n",
    "\n",
    "Manchmal wollen wir die Ergebnisse von Berechnungen oder bestimmte Werte speichern, um sie zu einem späteren Zeitpunkt des Programmes erneut zu verwenden. Dafür nutzen wir __Variablen__. Mit dem `=`-Zeichen können wir in Python Variablen bestimmte Werte zuweisen."
   ]
  },
  {
   "cell_type": "code",
   "execution_count": 8,
   "id": "17adbf1a-2811-47ad-a7c8-18613e9527fa",
   "metadata": {
    "tags": []
   },
   "outputs": [
    {
     "data": {
      "text/plain": [
       "3"
      ]
     },
     "execution_count": 8,
     "metadata": {},
     "output_type": "execute_result"
    }
   ],
   "source": [
    "x = 1\n",
    "y = 2\n",
    "x + y"
   ]
  },
  {
   "cell_type": "markdown",
   "id": "f1d7951e-76f0-4dcc-ae07-a941f5d91034",
   "metadata": {},
   "source": [
    "Der Variablen `x`wird der Wert $1$ zugeordnet, der Variablen `y` hingegen der Wert $2$. Dann wird die Summe der beiden Variablen berechnet."
   ]
  },
  {
   "cell_type": "markdown",
   "id": "3ea012cf-a86c-4b67-870f-1f09339c4388",
   "metadata": {},
   "source": [
    "Die neue Zuweisung einer Variablen ändert ihren Wert und der alte Wert geht verloren:"
   ]
  },
  {
   "cell_type": "code",
   "execution_count": 9,
   "id": "4dc97e60-536c-44e8-a94b-a13700de42c5",
   "metadata": {
    "tags": []
   },
   "outputs": [
    {
     "data": {
      "text/plain": [
       "7"
      ]
     },
     "execution_count": 9,
     "metadata": {},
     "output_type": "execute_result"
    }
   ],
   "source": [
    "x = 5\n",
    "x + y"
   ]
  },
  {
   "cell_type": "markdown",
   "id": "2e61f8eb-d67b-43d1-95e9-6a35b0ea018e",
   "metadata": {},
   "source": [
    "Der Wert der Variablen `x` wurde somit zu $5$ geändert, während der Wert der Variablen `y` weiterhin $2$ beträgt. Somit ist die Summe nun $7$.\n",
    "\n",
    "Es ist wichtig, dass eine Variable definiert wird, bevor sie verwendet wird. Die folgende Zelle gibt beim Ausführen eine __Fehlermeldung__ aus: `NameError: name 'z' not defined.`"
   ]
  },
  {
   "cell_type": "code",
   "execution_count": 10,
   "id": "c638c66d-4124-4760-9467-682aabe9515f",
   "metadata": {
    "tags": []
   },
   "outputs": [],
   "source": [
    "x + z\n",
    "z = 10"
   ]
  },
  {
   "cell_type": "markdown",
   "id": "3ce2b8a4-d5e2-4cb1-bd11-84f8f5a8c114",
   "metadata": {},
   "source": [
    "Das Problem ist hier, dass die Variable erst definiert wurde, nachdem sie bereits für eine Summe aufgerufen werden sollte. `Python` führt das Programm als Zeile für Zeile nach einander aus.\n",
    "Die Fehlermeldung weist uns jedoch direkt auf das Problem hin, indem sie auf die Zeile zeigt, in welcher der Fehler auftritt. <br>\n",
    "Führen wir die Zuweisung der Variablen `z` zuerst durch, läuft das Programm ohne Fehler.\n"
   ]
  },
  {
   "cell_type": "code",
   "execution_count": 11,
   "id": "a63b53d3-fe3a-4102-80d4-846e9bafd9e8",
   "metadata": {
    "tags": []
   },
   "outputs": [
    {
     "data": {
      "text/plain": [
       "15"
      ]
     },
     "execution_count": 11,
     "metadata": {},
     "output_type": "execute_result"
    }
   ],
   "source": [
    "z = 10\n",
    "x + z"
   ]
  },
  {
   "cell_type": "markdown",
   "id": "935d20a3-7fde-4c1c-a820-effcbed032ee",
   "metadata": {},
   "source": [
    "\n",
    "Das Auftreten von Fehlermeldungen ist beim Programmieren ganz normal und sollte nicht zur Verzweiflung führen. Bei jeglichen Problemen könnt ihr euch einfach an die Betreuer*innen wenden.\n",
    "<br></br>\n",
    "\n",
    "> **Anmerkung:** Bei der Benennung von Variablen müssen bestimmte Dinge beachtet werden:\n",
    "> 1. In den Variablennamen dürfen keine Leerzeichen auftauchen, verwende beispielsweise `variable_1` statt `variable 1`\n",
    "> 2. `Python` ist \"case-sensitive\". Das bedeutet, dass zwischen Groß- und Kleinbuchstaben unterschieden wird. `Variable_1` ist eine andere Variable als `variable_1`\n",
    "> 3. Die Verwendung von Umlauten (ä,ü,ö) sollte vermieden werden.\n",
    "> 4. Viele Sonderzeichen wie .,?!\"#+- etc. sind nicht erlaubt. \n",
    "\n",
    "<span style=\"color: blue\"> <strong> Kleine Aufgabe: </strong> </span> Definiere in der folgenden Zeile drei Variablen mit geeigneten Namen, die:\n",
    "1. Die Anzahl der Stunden pro Tag\n",
    "2. Die Anzahl der Minuten pro Stunde\n",
    "3. Die Anzahl der Sekunden pro Minute\n",
    "\n",
    "enthalten. Berechne mit diesen Variablen die Anzahl der Sekunden pro Tag."
   ]
  },
  {
   "cell_type": "code",
   "execution_count": null,
   "id": "3ee1eada-b90c-4c9c-a7b9-46ddb9c20f32",
   "metadata": {},
   "outputs": [],
   "source": []
  },
  {
   "cell_type": "markdown",
   "id": "35a4e695-2073-44ef-9a6d-9be66ae52a93",
   "metadata": {},
   "source": [
    "<a name=\"Kommentare\"></a>\n",
    "## [Kommentare](#anfang)\n",
    "\n",
    "Häufig will man bestimmte Erklärungen und Gedanken zum Code hinzufügen, ohne das dies vom Programm beachtet wird. Dafür kann man __Kommentare__ verwenden. Diese werden durch ein `#` (Hash) gekennzeichnet. Alles hinter dem dem `#` wird bis zum Ende der Zeile ignoriert."
   ]
  },
  {
   "cell_type": "code",
   "execution_count": 20,
   "id": "dcb6d30e-bdb1-4981-b0da-77acc13a7222",
   "metadata": {},
   "outputs": [
    {
     "data": {
      "text/plain": [
       "10"
      ]
     },
     "execution_count": 20,
     "metadata": {},
     "output_type": "execute_result"
    }
   ],
   "source": [
    "# Dies ist ein Kommentar, er wird vom Programm ignoriert\n",
    "x = 2 # Hier wird die Variable x definiert und erhält den Wert 2\n",
    "y = 5\n",
    "x * y"
   ]
  },
  {
   "cell_type": "markdown",
   "id": "63e80459-dabd-44ce-a6ae-3efcc27d7862",
   "metadata": {},
   "source": [
    "___\n",
    "<a name=\"Ausgabe_mit_print\"></a>\n",
    "## [Ausgabe mit der Print-Funktion](#anfang)\n",
    "\n",
    "Um die Werte von bestimmten Variablen oder Text von dem Programm ausgeben zu lassen, existiert die in Python eingebaute Funktion `print()`.<br>"
   ]
  },
  {
   "cell_type": "code",
   "execution_count": 2,
   "id": "9dcc1f7a-8797-437f-9d0d-ed393f29f871",
   "metadata": {
    "tags": []
   },
   "outputs": [
    {
     "name": "stdout",
     "output_type": "stream",
     "text": [
      "Wir lernen Python für Teilchenphysik.\n"
     ]
    }
   ],
   "source": [
    "print(\"Wir lernen Python für Teilchenphysik.\")"
   ]
  },
  {
   "cell_type": "code",
   "execution_count": 13,
   "id": "8444d44b-2e50-48d9-990f-e1103926391d",
   "metadata": {
    "tags": []
   },
   "outputs": [
    {
     "name": "stdout",
     "output_type": "stream",
     "text": [
      "Die Variable x hat den Wert: 10\n"
     ]
    }
   ],
   "source": [
    "x = 10\n",
    "\n",
    "print(\"Die Variable x hat den Wert:\", x)"
   ]
  },
  {
   "cell_type": "markdown",
   "id": "f9e23524-49de-46be-ac19-d3566263f2f7",
   "metadata": {},
   "source": [
    "Die `print`-Funktion kann also auch mehrere Dinge hintereinander ausgeben, welche mit einem Komma getrennt werden. Zunächst gibt sie den `str` \"Die Variable x hat den Wert\" aus, dann die tatsächlich Variable `x`, welche hier den Wert $10$ hat.\n",
    "\n",
    "`print()` ist also sehr nützlich, um bestimmte Informationen auszugeben.\n",
    "<br></br>\n",
    "\n",
    "<span style=\"color: blue\"> <strong> Kleine Aufgabe: </strong> </span> Nutze die `print`-Funktion, um dich mit Namen, Alter und Geburtstag vorzustellen."
   ]
  },
  {
   "cell_type": "code",
   "execution_count": null,
   "id": "c0a4398c-49ca-46ca-965f-6d17f9d2f10d",
   "metadata": {},
   "outputs": [],
   "source": []
  },
  {
   "cell_type": "markdown",
   "id": "78fbe101-8759-4af4-bb1d-dc828a8eb0fe",
   "metadata": {},
   "source": [
    "___\n",
    "<a name=\"Relationale_Operatoren\"></a>\n",
    "## [Relationale Operatoren](#anfang)\n",
    "\n",
    "Um Werte miteinander zu vergleichem, gibt es __relationale Operatoren__ in `Python`. Diese vergleichen zwei Werte und geben je nach Vergleich ein Ergebnis in Form eines `bool` also Wahrheitswertes aus. <br>\n",
    "In der nächsten Tabelle sind die wichtigsten relationalen Operatoren und ihre Bedeutung dargestellt.\n",
    "\n",
    "| Symbol | Durchgeführte Aufgabe |\n",
    "|----|---|\n",
    "| == | Wahr, wenn beide Seiten gleich sind |\n",
    "| != | Wahr, wenn beide Seiten ungleich sind |\n",
    "| < |Wahr, wenn die linke Seite kleiner ist |\n",
    "| > | Wahr, wenn die linke Seite größer ist |\n",
    "| <= | Wahr, wenn die linke Seite kleiner oder gleich der rechten Seite ist |\n",
    "| >= | Wahr, wenn die linke Seite größer oder gleich der rechten Seite ist |\n",
    "\n",
    "Wir schauen uns dies anhand von ein paar Beispielen an:"
   ]
  },
  {
   "cell_type": "code",
   "execution_count": 21,
   "id": "f6e86904-693f-48dd-bc63-1a5154262109",
   "metadata": {},
   "outputs": [
    {
     "data": {
      "text/plain": [
       "False"
      ]
     },
     "execution_count": 21,
     "metadata": {},
     "output_type": "execute_result"
    }
   ],
   "source": [
    "10 == 12"
   ]
  },
  {
   "cell_type": "code",
   "execution_count": 22,
   "id": "a1befae4-f3f7-4655-bd92-de8d3fdd1447",
   "metadata": {},
   "outputs": [
    {
     "data": {
      "text/plain": [
       "True"
      ]
     },
     "execution_count": 22,
     "metadata": {},
     "output_type": "execute_result"
    }
   ],
   "source": [
    "10 != 12"
   ]
  },
  {
   "cell_type": "code",
   "execution_count": 23,
   "id": "2703ddf5-1bd8-41f8-a2b0-7aeb3f53aff5",
   "metadata": {},
   "outputs": [
    {
     "data": {
      "text/plain": [
       "True"
      ]
     },
     "execution_count": 23,
     "metadata": {},
     "output_type": "execute_result"
    }
   ],
   "source": [
    "10 < 12"
   ]
  },
  {
   "cell_type": "code",
   "execution_count": 24,
   "id": "e1037458-bad6-4b5f-85a0-2454318b2693",
   "metadata": {},
   "outputs": [
    {
     "data": {
      "text/plain": [
       "False"
      ]
     },
     "execution_count": 24,
     "metadata": {},
     "output_type": "execute_result"
    }
   ],
   "source": [
    "10 > 12"
   ]
  },
  {
   "cell_type": "code",
   "execution_count": 25,
   "id": "128fe9aa-92c7-45c1-ad2e-67a42bb933d7",
   "metadata": {},
   "outputs": [
    {
     "data": {
      "text/plain": [
       "False"
      ]
     },
     "execution_count": 25,
     "metadata": {},
     "output_type": "execute_result"
    }
   ],
   "source": [
    "10 > 10"
   ]
  },
  {
   "cell_type": "code",
   "execution_count": 26,
   "id": "c7fda36a-a02d-4666-ad14-a6b948e1ee7d",
   "metadata": {},
   "outputs": [
    {
     "data": {
      "text/plain": [
       "True"
      ]
     },
     "execution_count": 26,
     "metadata": {},
     "output_type": "execute_result"
    }
   ],
   "source": [
    "10 >= 10"
   ]
  },
  {
   "cell_type": "markdown",
   "id": "9c74dad2-93f0-47bf-bb86-2dc8b77e354e",
   "metadata": {},
   "source": [
    "Das klappt natürlich auch mit Variablen:"
   ]
  },
  {
   "cell_type": "code",
   "execution_count": 27,
   "id": "2a535e35-ab29-4094-b1f8-808e8ddbb07b",
   "metadata": {},
   "outputs": [
    {
     "data": {
      "text/plain": [
       "True"
      ]
     },
     "execution_count": 27,
     "metadata": {},
     "output_type": "execute_result"
    }
   ],
   "source": [
    "x = 5\n",
    "y = 3\n",
    "\n",
    "x > y"
   ]
  },
  {
   "cell_type": "code",
   "execution_count": 28,
   "id": "00b28a39-282f-448a-ae16-2bd06f04b156",
   "metadata": {},
   "outputs": [
    {
     "data": {
      "text/plain": [
       "False"
      ]
     },
     "execution_count": 28,
     "metadata": {},
     "output_type": "execute_result"
    }
   ],
   "source": [
    "x == y"
   ]
  },
  {
   "cell_type": "markdown",
   "id": "895a2c7d-f323-4257-96df-3e3b38763b33",
   "metadata": {},
   "source": [
    "Während die Größer-Kleiner-Operatoren für Texte (also Buchstabenfolgen, auch genannt \"string\") natürlich keinen Sinn machen, kann man dennoch die Gleichheit prüfen."
   ]
  },
  {
   "cell_type": "code",
   "execution_count": 14,
   "id": "d0fb242c-31d5-40f2-8a34-cccc165dd71a",
   "metadata": {
    "tags": []
   },
   "outputs": [
    {
     "data": {
      "text/plain": [
       "False"
      ]
     },
     "execution_count": 14,
     "metadata": {},
     "output_type": "execute_result"
    }
   ],
   "source": [
    "a = \"some text\"\n",
    "b = \"some other text\"\n",
    "c = \"some text\"\n",
    "\n",
    "a == b"
   ]
  },
  {
   "cell_type": "code",
   "execution_count": 15,
   "id": "eb1fef66-a2da-4fa2-a6f3-2c30e354598e",
   "metadata": {
    "tags": []
   },
   "outputs": [
    {
     "data": {
      "text/plain": [
       "True"
      ]
     },
     "execution_count": 15,
     "metadata": {},
     "output_type": "execute_result"
    }
   ],
   "source": [
    "a == c"
   ]
  },
  {
   "cell_type": "markdown",
   "id": "5877a7dc-fb73-4756-bef0-87e27af070ab",
   "metadata": {},
   "source": [
    "<br></br>\n",
    "<span style=\"color: blue\"> <strong> Kleine Aufgabe: </strong> </span> Welchen Boolean-Wert (`True` oder `False`) nehmen die folgenden Variablen an? Überprüfe deine Überlegungen, indem du die Variablen mit der `print`-Funktion ausgibst."
   ]
  },
  {
   "cell_type": "code",
   "execution_count": 24,
   "id": "de75629d-546e-4ec7-a226-a5b395da796c",
   "metadata": {},
   "outputs": [],
   "source": [
    "a = (3*2 > 2+3)\n",
    "b = (100 != 4*25)\n",
    "c = (\"Ein bisschen Text\" == \"Ein bisschen Text!\")\n",
    "d = (25/5 < 2*2)\n",
    "\n",
    "\n",
    "\n",
    "\n",
    "\n"
   ]
  },
  {
   "cell_type": "markdown",
   "id": "4e3652e3-6114-4ae8-816a-c84a93bf4a5b",
   "metadata": {},
   "source": [
    "<a name=\"Boolsche_Operationen\"></a>\n",
    "#### [Boolsche Operatoren](#anfang)\n",
    "\n",
    "Man kann mehrere `bool`-Werte mithilfe von __Boolschen Operationen__ vergleichen:\n",
    "\n",
    "| Symbol | Durchgeführte Aufgabe |\n",
    "|----|---|\n",
    "| `x `**`or`**` y` | Wahr, wenn eines oder beide wahr sind |\n",
    "| `x `**`and`**` y` | Wahr, wenn beide Wahr sind |\n",
    "| **`not`**` x` | Wahr, wenn x Falsch ist |\n",
    "| `( ... )` | In Klammern setzen, um die Rangfolge zu beeinflussen"
   ]
  },
  {
   "cell_type": "code",
   "execution_count": 33,
   "id": "2b974091-adcf-4b6f-a69f-cc06c4492f75",
   "metadata": {},
   "outputs": [
    {
     "data": {
      "text/plain": [
       "True"
      ]
     },
     "execution_count": 33,
     "metadata": {},
     "output_type": "execute_result"
    }
   ],
   "source": [
    "x = (5 > 2)  # x erhält den Wert \"True\"\n",
    "y = (5 == 4) # y erhält den Wert \"False\"\n",
    "\n",
    "x or y"
   ]
  },
  {
   "cell_type": "code",
   "execution_count": 34,
   "id": "f3ecd40c-fbda-47a2-aa36-522032da4a93",
   "metadata": {},
   "outputs": [
    {
     "data": {
      "text/plain": [
       "False"
      ]
     },
     "execution_count": 34,
     "metadata": {},
     "output_type": "execute_result"
    }
   ],
   "source": [
    "x and y"
   ]
  },
  {
   "cell_type": "code",
   "execution_count": 35,
   "id": "c0216237-a329-483a-a7ba-f1d2c9bd6b3a",
   "metadata": {},
   "outputs": [
    {
     "data": {
      "text/plain": [
       "True"
      ]
     },
     "execution_count": 35,
     "metadata": {},
     "output_type": "execute_result"
    }
   ],
   "source": [
    "not y"
   ]
  },
  {
   "cell_type": "code",
   "execution_count": 36,
   "id": "be92ca3b-12da-4dd3-8651-39da6d5f664d",
   "metadata": {},
   "outputs": [
    {
     "data": {
      "text/plain": [
       "False"
      ]
     },
     "execution_count": 36,
     "metadata": {},
     "output_type": "execute_result"
    }
   ],
   "source": [
    "not x"
   ]
  },
  {
   "cell_type": "markdown",
   "id": "072c35bd-9b82-43cf-baf4-8a8c1189c509",
   "metadata": {},
   "source": [
    "<a name=\"Konditionale_Programmierung\"></a>\n",
    "## [Bedingte Anweisungen](#anfang)\n",
    "\n",
    "Wir haben nun gelernt, wie wir mit `bool`-Werten umgehen können. Nun wollen wir dieses Wissen nutzen, um __bedingte Anweisungen__ einzuführen. Das bedeutet, dass bestimmte Abschnitte unseres Codes nur ausgeführt werden, wenn eine bestimmte Bedingung erfüllt ist.\n",
    "\n",
    "Dies machen wir in Python mit `if-else`-Konstrukten. Nach dem Schlüsselwort `if` folgt die Bedingung. Wird die Bedingung erfüllt, also hat sie den Wert `True`, wird der eingerückte Block nach dem `:` ausgeführt. Eine solche Kontrollstruktur hat also die folgende Syntax.\n",
    "\n",
    "```Python\n",
    "if <Bedingung>:\n",
    "    <Auszuführender Block>\n",
    "```"
   ]
  },
  {
   "cell_type": "code",
   "execution_count": 1,
   "id": "844dfaaa-ac12-4dfa-b74e-34852534e817",
   "metadata": {},
   "outputs": [
    {
     "name": "stdout",
     "output_type": "stream",
     "text": [
      "Wenn unsere Variable x einen größeren Wert als 5 hat, dann wird dieser Text ausgegeben.\n"
     ]
    }
   ],
   "source": [
    "x = 10\n",
    "if x > 5:\n",
    "    print(\"Wenn unsere Variable x einen größeren Wert als 5 hat, dann wird dieser Text ausgegeben.\")"
   ]
  },
  {
   "cell_type": "markdown",
   "id": "64c48d9b-79e3-48f4-b585-c3a6e030804c",
   "metadata": {},
   "source": [
    "> __Hinweis zur Syntax__: Der Block, welcher ausgeführt werden soll, wenn die Bedingung als `True` evaluiert wird, muss in Python eingerückt werden. Dies kann mit 4 Leerzeichen oder einem Tabulator (Tab) gemacht werden. Weniger oder mehr Leerzeichen führen hier zu Problemen. So kann der eingerückte Block mehrere Anweisungen enthalten."
   ]
  },
  {
   "cell_type": "code",
   "execution_count": 3,
   "id": "58f20efc-d76b-4616-af60-104be6b967ce",
   "metadata": {},
   "outputs": [
    {
     "name": "stdout",
     "output_type": "stream",
     "text": [
      "Diese Anweisung wird immer ausgeführt, da sie nicht eingerückt ist.\n"
     ]
    }
   ],
   "source": [
    "x = 3\n",
    "if x > 5:\n",
    "    print(\"Wenn unsere Variable x einen größeren Wert als 5 hat, dann wird dieser Text ausgegeben.\")\n",
    "    print(\"Eine beliebige zweite Anweisung\")\n",
    "print(\"Diese Anweisung wird immer ausgeführt, da sie nicht eingerückt ist.\")"
   ]
  },
  {
   "cell_type": "markdown",
   "id": "d36ad14f-a513-40c2-a8f8-f42e23d84d39",
   "metadata": {},
   "source": [
    "Was machen wir, wenn wir nun eine bestimmte Anweisung ausführen wollen, wenn die Bedingung nicht erfüllt wird (Hier wenn `x <= 5`)? Dafür stellt Python einen `else`-Block zur Verfügung. Dieser wird durch das Schlüsselwert `else` mit einem `:` eingeleitet und wird nur dann ausgeführt, wenn die `if`-Bedingung nicht erfüllt wird. Die Syntax sieht folgendermaßen aus:\n",
    "```Python\n",
    "if <Bedingung>:\n",
    "    <Auszuführender Block wenn Bedingung = True>\n",
    "else:\n",
    "    <Auszuführender Block wenn Bedingung = False>\n",
    "    \n",
    "```"
   ]
  },
  {
   "cell_type": "code",
   "execution_count": 16,
   "id": "f9ef41b7-1047-4549-bdd6-17438e4c6b95",
   "metadata": {
    "tags": []
   },
   "outputs": [
    {
     "name": "stdout",
     "output_type": "stream",
     "text": [
      "Die Zahl ist einstellig oder negativ.\n",
      "Das Programm wurde ausgeführt.\n"
     ]
    }
   ],
   "source": [
    "zahl = 8\n",
    "\n",
    "if zahl >= 10:\n",
    "    print(\"Die Zahl ist mindestens zweistellig und positiv.\")\n",
    "else:\n",
    "    print(\"Die Zahl ist einstellig oder negativ.\")\n",
    "    \n",
    "print(\"Das Programm wurde ausgeführt.\")"
   ]
  },
  {
   "cell_type": "markdown",
   "id": "f40fb835-d6c5-4c14-a3b3-2fe718d9830a",
   "metadata": {},
   "source": [
    "<br></br>\n",
    "Mit dem Schlüsselwort `elif` können noch weitere Bedingungen überprüft werden, wenn die `if`-Bedingung nicht erfüllt wird. \n",
    "<br></br>\n",
    "\n",
    "Es wird also erst die `if`-Bedinung überprüft, dann alle `elif`-Bedingungen von oben nach unten und wenn alle diese nicht erfüllt werden, wird die Anweisung nach dem `else`-Statement ausgeführt. Wir schauen uns das nochmal im folgenden Beispiel an:"
   ]
  },
  {
   "cell_type": "code",
   "execution_count": 17,
   "id": "b069629f-d69d-4232-945b-43198ad1bb63",
   "metadata": {
    "tags": []
   },
   "outputs": [
    {
     "name": "stdout",
     "output_type": "stream",
     "text": [
      "Die Zahl ist liegt zwischen 13 und 15.\n",
      "Das Programm wurde ausgeführt.\n"
     ]
    }
   ],
   "source": [
    "zahl = 15\n",
    "\n",
    "if zahl <= 10:\n",
    "    print(\"Die Zahl ist einstellig oder negativ.\")\n",
    "elif zahl <= 12:\n",
    "    print(\"Die Zahl ist kleiner als 12 aber größer als 10 (sonst wäre die if-Bedingung erfüllt)\")\n",
    "elif zahl <= 15:\n",
    "    print(\"Die Zahl ist liegt zwischen 13 und 15.\")\n",
    "else:\n",
    "    print(\"Die Zahl ist auf jeden Fall größer als 15\")\n",
    "    \n",
    "print(\"Das Programm wurde ausgeführt.\")"
   ]
  },
  {
   "cell_type": "markdown",
   "id": "cece0005-2e34-4420-9e10-6927a6bd193f",
   "metadata": {},
   "source": [
    "<span style=\"color: blue\"> <strong> Kleine Aufgabe: </strong> </span> Führe das Programm mit verschiedenen Werten der Variable `zahl` aus. Beobachte, welche Anweisungen dann ausgeführt werden."
   ]
  },
  {
   "cell_type": "markdown",
   "id": "9e1706aa-1fcb-403f-884f-b6633166d2eb",
   "metadata": {},
   "source": [
    "___\n",
    "<a name=\"Listen\"></a>\n",
    "## [Listen](#anfang)\n",
    "\n",
    "Bisher haben wir vier verschiedene Datentypen kennengelernt, `int`, `float`, `str` und `bool`. Doch was machen wir nun, wenn viele Daten verarbeiten wollen? Angenommen wir wollen die durchschnittliche Größe der Bevölkerung bestimmen und führen dafür eine Vermessung von 1000 Proband\\*innen durch. Es wäre sehr unpraktisch und unübersichtlich 1000 Variablen für jeden Proband*innen zu erstellen. Stattdessen bietet uns `Python` hier eine bessere Lösung: __Listen__\n",
    "\n",
    "Listen werden in Python mit eckigen Klammern `[` begonnen, Objekte mit einem `,` getrennt und schließlich mit einem `]` wieder geschlossen:\n",
    "\n",
    "```Python\n",
    "Liste = [<erstes Objekt>, <zweites Objekt>, <drittes Objekt>]\n",
    "```\n"
   ]
  },
  {
   "cell_type": "code",
   "execution_count": 6,
   "id": "777fd23c-8196-499e-aabf-4949a42cbaa9",
   "metadata": {},
   "outputs": [
    {
     "name": "stdout",
     "output_type": "stream",
     "text": [
      "[0, 5, 10, 15, 20, 25, 30, 35, 40, 45, 50]\n"
     ]
    }
   ],
   "source": [
    "fuenfer_reihe = [0, 5, 10, 15, 20, 25, 30, 35, 40, 45, 50]\n",
    "\n",
    "print(fuenfer_reihe)"
   ]
  },
  {
   "cell_type": "markdown",
   "id": "669fccb5-3119-46ff-8777-0769fc400f8e",
   "metadata": {},
   "source": [
    "Natürlich lassen sich Listen auch mit anderen Datentypen füllen:"
   ]
  },
  {
   "cell_type": "code",
   "execution_count": 18,
   "id": "0293fd72-0c48-4a33-9920-50d691d09964",
   "metadata": {
    "tags": []
   },
   "outputs": [
    {
     "name": "stdout",
     "output_type": "stream",
     "text": [
      "['Einkaufen', 'Staubsaugen', 'Python lernen', 'Sport']\n"
     ]
    }
   ],
   "source": [
    "to_do_liste = [\"Einkaufen\", \"Staubsaugen\", \"Python lernen\", \"Sport\"]\n",
    "\n",
    "print(to_do_liste)"
   ]
  },
  {
   "cell_type": "markdown",
   "id": "1d2378a3-2e05-42d0-ab34-cad04c37e261",
   "metadata": {},
   "source": [
    "<br></br>\n",
    "<a name=\"Indizierung\"></a>\n",
    "#### [Indizierung](#anfang)\n",
    "\n",
    "Um ein bestimmtes Element in der Liste zurückgreifen zu können, muss man dessen __Index__ (Position) kennen. In Programmiersprachen beginnt das Zählen jedoch bei $0$. Danach werden die Elemente weiter durchnummeriert.\n",
    "\n",
    "<center><img width=\"1000\" align=\"mid\" src=\"images/Indizierung.png\" /></center>\n",
    "\n",
    "Um das Element am Index `i` auszuwählen, schreiben wir hinter die Variable, welche die Liste enthält in eckigen Klammern `[i]`."
   ]
  },
  {
   "cell_type": "code",
   "execution_count": null,
   "id": "09ef44be-51e2-411a-a574-885ca55e5898",
   "metadata": {},
   "outputs": [],
   "source": [
    "liste = [2, 4, 8, 16, 32]\n",
    "\n",
    "erstes_element = liste[0]\n",
    "viertes_element = liste[3]"
   ]
  },
  {
   "cell_type": "markdown",
   "id": "346dd6bf-b195-47af-b756-a5e5d146aa94",
   "metadata": {},
   "source": [
    "<br></br>\n",
    "<span style=\"color: blue\"> <strong> Kleine Aufgabe: </strong> </span> Erstelle eine Liste namens `Namen`, in welcher du die Namen deiner Mitschülerinnen und Betreuer\\*innen einträgst. Lass dir dann mithilfe von Indizierung den ersten, dritten und letzten Namen ausgeben."
   ]
  },
  {
   "cell_type": "code",
   "execution_count": null,
   "id": "a2791583-1877-43f9-ab33-e62d9970b305",
   "metadata": {},
   "outputs": [],
   "source": []
  },
  {
   "cell_type": "markdown",
   "id": "ae4738db-6d8f-456d-a8cb-c6b5542c8fb9",
   "metadata": {
    "tags": []
   },
   "source": [
    "___\n",
    "<a name=\"Funktionen\"></a>\n",
    "## [Funktionen](#anfang)\n",
    "\n",
    "In Python gibt es eingebaute __Funktionen__, welche bestimmte Aufgaben erfüllen und auf andere Objekte angewendet werden können. Diese Funktionen haben einen bestimmten Namen, mit welchem sie aufgerufen werden können und empfangen das Objekt als Argument in Klammern `()`. Ein Beispiel hierfür ist die Funktion `len()`. Wenn man diese auf eine Liste anwendet, gibt sie uns die Länge der Liste aus."
   ]
  },
  {
   "cell_type": "code",
   "execution_count": 19,
   "id": "717a8f97-c81e-4e57-a646-39d8ed21f228",
   "metadata": {
    "tags": []
   },
   "outputs": [
    {
     "data": {
      "text/plain": [
       "4"
      ]
     },
     "execution_count": 19,
     "metadata": {},
     "output_type": "execute_result"
    }
   ],
   "source": [
    "liste = [1,2,3,4]\n",
    "len(liste)"
   ]
  },
  {
   "cell_type": "markdown",
   "id": "13464cef-1c7f-477c-bafb-9841b3260427",
   "metadata": {},
   "source": [
    "Jetzt wollen wir lernen, wie wir unsere eigenen Funktionen definieren.\n",
    "\n",
    "Die Definition einer Funktion beginnt mit dem Schlüsselwort `def` gefolgt von dem Namen, welchen wir der Funktion geben wollen. In Klammern spezifizieren wir die Argumente/Parameter, welche wir der Funktion übergeben wollen. Nach dem üblichen `:`-Zeichen, folgt der eingerückte Anweisungsblock der die Operationen der Funktion enthält. Mit dem `return` Schlüsselwort wird schließlich das gewünschte Resultat ausgegeben.\n",
    "\n",
    "Wir schauen uns dies an einem Beispiel an."
   ]
  },
  {
   "cell_type": "code",
   "execution_count": 21,
   "id": "579cc53b-d30e-46c3-b963-7bf29275c1e8",
   "metadata": {
    "tags": []
   },
   "outputs": [],
   "source": [
    "def add_one(number):\n",
    "    return number + 1"
   ]
  },
  {
   "cell_type": "markdown",
   "id": "338dcd7b-20e0-4686-958a-b8b49b111b42",
   "metadata": {},
   "source": [
    "<center><img width=\"700\" align=\"mid\" src=\"images/Function.png\" /></center>"
   ]
  },
  {
   "cell_type": "markdown",
   "id": "071046e2-6b79-4ff9-9bdb-2a758bd99533",
   "metadata": {},
   "source": [
    "__Erklärung__: Wir definieren hier eine Funktion mit dem Namen `add_one`. Der Eingabeparameter der Funktion wird als `number` bezeichnet. In der Funktion wird die eingegebene Nummer um $1$ erhöht und schließlich ausgegeben."
   ]
  },
  {
   "cell_type": "code",
   "execution_count": 22,
   "id": "f0388506-1c61-4e88-b4d9-5ad94ab5cf61",
   "metadata": {
    "tags": []
   },
   "outputs": [
    {
     "name": "stdout",
     "output_type": "stream",
     "text": [
      "new_y = 6\n"
     ]
    }
   ],
   "source": [
    "y = 5\n",
    "new_y = add_one(y)\n",
    "\n",
    "print(\"new_y =\", new_y)"
   ]
  },
  {
   "cell_type": "markdown",
   "id": "6c5b3a9c-efe2-4d26-897b-25c799b775e7",
   "metadata": {},
   "source": [
    "Es gibt auch Funktionen ohne Eingabeparameter. Diese Funktionen führen einfach einen bestimmten Prozess beim Aufruf durch, unabhängig von irgendwelchen Parametern:"
   ]
  },
  {
   "cell_type": "code",
   "execution_count": 25,
   "id": "7281e461-585e-47a6-a8c2-afb907776fcd",
   "metadata": {
    "tags": []
   },
   "outputs": [],
   "source": [
    "def auskunft_adresse():\n",
    "    print(\"Erika Mustermann\")\n",
    "    print(\"Musterstraße 5\")\n",
    "    print(\"52062 Aachen\")"
   ]
  },
  {
   "cell_type": "code",
   "execution_count": 26,
   "id": "7f2e83d4-ead4-40ba-9654-58a686900d52",
   "metadata": {
    "tags": []
   },
   "outputs": [
    {
     "name": "stdout",
     "output_type": "stream",
     "text": [
      "Erika Mustermann\n",
      "Musterstraße 5\n",
      "52062 Aachen\n"
     ]
    }
   ],
   "source": [
    "auskunft_adresse()"
   ]
  },
  {
   "cell_type": "markdown",
   "id": "862bceb6-1dbd-46ed-8fb7-251bc8d90c12",
   "metadata": {},
   "source": [
    "Wir sehen also, dass dies nützlich sein kann, wenn man bestimmte Abläufe wiederholen möchte, ohne immer wieder den selben Code zu schreiben.\n",
    "\n",
    "Zuletzt gibt es natürlich auch Funktionen mit zwei oder mehr Eingabeparametern. Hierbei kann man dann jedoch bei der Eingabe der Parameter spezifizieren, um welchen Parameter sich handelt. <br>\n",
    "So sieht zum Beispiel eine Funktion aus, die zwei Zahlen miteinander addiert:"
   ]
  },
  {
   "cell_type": "code",
   "execution_count": 27,
   "id": "9a8e038a-0f9d-4106-b2f6-192088418557",
   "metadata": {
    "tags": []
   },
   "outputs": [],
   "source": [
    "def addition(summand1, summand2):\n",
    "    summe = summand1 + summand2\n",
    "    return summe"
   ]
  },
  {
   "cell_type": "code",
   "execution_count": 28,
   "id": "da0efd07-e2ce-4569-90c2-0f4659977099",
   "metadata": {
    "tags": []
   },
   "outputs": [
    {
     "data": {
      "text/plain": [
       "22"
      ]
     },
     "execution_count": 28,
     "metadata": {},
     "output_type": "execute_result"
    }
   ],
   "source": [
    "addition(10,12) # hier wird die erste Zahl automatisch als summand1 interpretiert"
   ]
  },
  {
   "cell_type": "markdown",
   "id": "d3f9f220-6079-4929-8fa1-1b6649a6c361",
   "metadata": {},
   "source": [
    "Oder wenn man den Eingabeparameter spezifiziert:"
   ]
  },
  {
   "cell_type": "code",
   "execution_count": 29,
   "id": "b39255c3-ed73-4ac8-90da-dfd504e1958d",
   "metadata": {
    "tags": []
   },
   "outputs": [
    {
     "data": {
      "text/plain": [
       "22"
      ]
     },
     "execution_count": 29,
     "metadata": {},
     "output_type": "execute_result"
    }
   ],
   "source": [
    "addition(summand1 = 10, summand2 = 12)"
   ]
  },
  {
   "cell_type": "markdown",
   "id": "59e48e8e-39d8-4d21-8b49-38f1b10d5290",
   "metadata": {},
   "source": [
    "<span style=\"color: blue\"> <strong> Kleine Aufgabe: </strong> </span> Schreibe eine kleine Funktion namens `multiplikation`, die zwei Eingabeparameter namens `faktor1` und `faktor2` empfängt und das Produkt der beiden Faktoren ausgibt. Probiere deine Funktion ruhig ein wenig aus!"
   ]
  },
  {
   "cell_type": "code",
   "execution_count": null,
   "id": "cddef6c0-6ad9-48bf-bec4-fc2a66fb6846",
   "metadata": {},
   "outputs": [],
   "source": []
  },
  {
   "cell_type": "markdown",
   "id": "6bebd52a-2bcf-4405-b5da-97b461c2d464",
   "metadata": {},
   "source": [
    "___\n",
    "<a name=\"fazit\"></a>\n",
    "## [Abschluss](#anfang)\n",
    "\n",
    "Zum Abschluss gibt es noch eine letzte Aufgabe: \n",
    "<br></br>\n",
    "Schreibe eine Funktion namens `division_in_list()`, welche als Argument eine Liste aus __Integer__ übergeben bekommt. Falls der Wert an der dritten Stelle der Liste ungleich $0$ ist, soll der Wert an der ersten Stelle der Liste durch den Wert an der dritten Stelle der Liste geteilt werden. Das Ergebnis der Division soll dann ausgegeben werden.\n",
    "Falls der Wert an der dritten Stelle der Liste jedoch gleich $0$ ist, so soll folgender Text ausgegeben werden: \n",
    "``` Python \n",
    "\"Fehler: Es darf nicht durch 0 geteilt werden.\" \n",
    "```\n",
    "\n",
    "Deine Funktion soll für die Eingabe der folgenden beispielhaften Listen, die mit `>>>` angegebenen Ausgaben tätigen:\n",
    "\n",
    "``` Python\n",
    "division_in_list([28,4,7,8,0,95])\n",
    ">>> 4.0\n",
    "\n",
    "division_in_list([1,2,3])\n",
    ">>> 0.33333333333333\n",
    "\n",
    "division_in_list([5,4,0,12,101])\n",
    ">>> Fehler: Es darf nicht durch 0 geteilt werden.\n"
   ]
  },
  {
   "cell_type": "code",
   "execution_count": 5,
   "id": "56adc8ca-f364-48e3-a0e4-8b5802aa2aa2",
   "metadata": {},
   "outputs": [],
   "source": [
    "### Bearbeite hier die Aufgabe\n",
    "\n",
    "\n",
    "\n"
   ]
  },
  {
   "cell_type": "markdown",
   "id": "61781d1d-5f18-488a-a9c1-e6f7cd4c66e2",
   "metadata": {},
   "source": [
    "<br></br>\n",
    "__Geschafft!__ Puhh, das war ganz schön viel... Aber keine Sorge, während des ganzen Projektes könnt ihr natürlich jederzeit zu diesem Notebook zurückkehren und Themen nachlesen. Außerdem stehen euch eure Betreuer\\*innen jederzeit und bei allen Themen für Fragen zur Verfügung.\n",
    "\n",
    "Für das kommende Machine Learning Projekt werden euch ganz viele __Funktionen__ (so wie wir sie gerade geschrieben haben) zur Verfügung stehen, die euch viel Arbeit abnehmen. Diese kommen teilweise auch aussogenannten __Modulen__, welche die Funktionalität von `Python` erweitern. Wir werden `numpy`für numerische Berechnungen, `matplotlib`für grafische Darstellungen und `keras` für Deep Learning verwenden.\n",
    "\n",
    "\n",
    "Falls wir euer Interesse an `Python` geweckt haben, finden ihr [hier](https://docs.python.org/3/tutorial/) ein ausführlicheres Tutorial."
   ]
  }
 ],
 "metadata": {
  "kernelspec": {
   "display_name": "Python 3 (ipykernel)",
   "language": "python",
   "name": "python3"
  },
  "language_info": {
   "codemirror_mode": {
    "name": "ipython",
    "version": 3
   },
   "file_extension": ".py",
   "mimetype": "text/x-python",
   "name": "python",
   "nbconvert_exporter": "python",
   "pygments_lexer": "ipython3",
   "version": "3.9.21"
  }
 },
 "nbformat": 4,
 "nbformat_minor": 5
}
